{
 "cells": [
  {
   "cell_type": "markdown",
   "id": "9c36292f",
   "metadata": {},
   "source": [
    "# Libs"
   ]
  },
  {
   "cell_type": "code",
   "execution_count": 295,
   "id": "c32d3bbf",
   "metadata": {},
   "outputs": [],
   "source": [
    "import numpy as np\n",
    "import pandas as pd\n",
    "import matplotlib.pyplot as plt\n",
    "import math\n",
    "import seaborn as sns\n",
    "pd.set_option('display.max_columns', None)\n",
    "from sklearn.model_selection import train_test_split\n",
    "from typing import Any, List, Dict, Tuple\n",
    "from sklearn.metrics import f1_score, accuracy_score\n",
    "import seaborn as sns\n",
    "from tqdm import tqdm"
   ]
  },
  {
   "cell_type": "markdown",
   "id": "62d84ddb",
   "metadata": {},
   "source": [
    "# Functions and classes"
   ]
  },
  {
   "cell_type": "code",
   "execution_count": 296,
   "id": "d2d6d3a5",
   "metadata": {},
   "outputs": [],
   "source": [
    "def percentile(n):\n",
    "    def percentile_(x):\n",
    "        return x.quantile(n)\n",
    "    percentile_.__name__ = 'percentile_{:02.0f}'.format(n*100)\n",
    "    return percentile_"
   ]
  },
  {
   "cell_type": "code",
   "execution_count": 298,
   "id": "c867452e",
   "metadata": {},
   "outputs": [],
   "source": [
    "class LazyClassifierFCA:\n",
    "    def __init__(self):\n",
    "        self.X_train = None\n",
    "        self.y_train = None\n",
    "\n",
    "    def fit(self, X_train: pd.DataFrame, y_train: pd.Series) -> None:\n",
    "        self.X_train = X_train\n",
    "        self.y_train = y_train\n",
    "        \n",
    "    def classify_sample(self, sample: pd.Series, verbose=0) -> Any:\n",
    "        X_train_positive = self.X_train[y_train == 1]\n",
    "        X_train_negative = self.X_train[y_train == 0]\n",
    "        \n",
    "        positive_classifiers = 0\n",
    "        negative_classifiers = 0\n",
    "        \n",
    "        def is_positive_classifier(intersection):\n",
    "            # Find samples in X_train_positive that contain the intersection\n",
    "            num_positive = ((X_train_positive | ~intersection) == True).all(axis=1).sum()\n",
    "            num_negative = ((X_train_negative | ~intersection) == True).all(axis=1).sum()\n",
    "            return num_negative == 0 and num_positive > 1\n",
    "        \n",
    "        def is_negative_classifier(intersection):\n",
    "            num_positive = ((X_train_positive | ~intersection) == True).all(axis=1).sum()\n",
    "            num_negative = ((X_train_negative | ~intersection) == True).all(axis=1).sum()\n",
    "            return num_positive == 0 and num_negative > 1\n",
    "        \n",
    "        # Check for positive classifiers by intersecting sample with each positive object\n",
    "        for _, pos_sample in X_train_positive.iterrows():\n",
    "            intersection = sample & pos_sample\n",
    "            if is_positive_classifier(intersection):\n",
    "                positive_classifiers += 1\n",
    "\n",
    "        # Check for negative classifiers by intersecting sample with each negative object\n",
    "        for _, neg_sample in X_train_negative.iterrows():\n",
    "            intersection = sample & neg_sample\n",
    "            if is_negative_classifier(intersection):\n",
    "                negative_classifiers += 1\n",
    "\n",
    "        # Determine the class based on the number of classifiers\n",
    "        if positive_classifiers > negative_classifiers:\n",
    "            if verbose == 1:\n",
    "                print(f\"sample {sample.name} is classified as 1, {positive_classifiers=}, {negative_classifiers=}\")\n",
    "            return 1  # Predict positive\n",
    "            \n",
    "        elif negative_classifiers > positive_classifiers:\n",
    "            if verbose == 1:\n",
    "                print(f\"sample {sample.name} is classified as 0, {positive_classifiers=}, {negative_classifiers=}\")\n",
    "            return 0  # Predict negative\n",
    "\n",
    "        elif negative_classifiers == positive_classifiers:\n",
    "            return 1  # or 0, depending on the choice\n",
    "        else:\n",
    "            if verbose == 1:\n",
    "                # If equal, you can decide on a rule, like defaulting to 0 or 1, or returning 'undetermined'\n",
    "                print(f\"sample {sample.name} is classified as 1, default, {positive_classifiers=}, {negative_classifiers=}\")\n",
    "        \n",
    "            return 1  # or 0, depending on the choice\n",
    "\n",
    "\n",
    "    def predict(self, X_test: pd.DataFrame, verbose=0) -> List[Any]:\n",
    "        # List to store predictions for each test sample\n",
    "        predictions = []\n",
    "        \n",
    "        # Iterate through each sample in X_test\n",
    "        for _, sample in tqdm(X_test.iterrows(), disable=bool(verbose)):\n",
    "            # Classify the sample and append the result to predictions\n",
    "            prediction = self.classify_sample(sample, verbose)\n",
    "            predictions.append(prediction)\n",
    "        \n",
    "        \n",
    "        return predictions"
   ]
  },
  {
   "cell_type": "code",
   "execution_count": 299,
   "id": "cfab10cd",
   "metadata": {},
   "outputs": [],
   "source": [
    "class OrdinalScaler():\n",
    "    '''\n",
    "        Scales numerical data using ordinal scale. \n",
    "        Uses tresholds defined by user, if none provided uses 25%, 50% and 75% as tresholds\n",
    "    '''\n",
    "    \n",
    "    def __init__(self, column):\n",
    "        self.column = column\n",
    "        \n",
    "    def fit(self, data, list_of_tresholds=[]):\n",
    "        if len(list_of_tresholds) == 0:\n",
    "            self.tresholds = data[self.column].agg([percentile(0.25), percentile(0.5), percentile(0.75)]).values\n",
    "        else:\n",
    "            self.tresholds = np.array(list_of_tresholds)\n",
    "        \n",
    "    \n",
    "    def scale(self, data):\n",
    "        '''\n",
    "            Builing an ordinal scale of a given colum of a dataframe, \n",
    "            using list_of_tresholds checking every treshold using non strict comparison >=\n",
    "        '''\n",
    "        length = len(data.index)\n",
    "\n",
    "        arr = np.zeros((length, len(self.tresholds)))\n",
    "\n",
    "        for i, value in enumerate(data[self.column]):\n",
    "            arr[i, :] = self.tresholds >= value\n",
    "\n",
    "        columns_names = [f'{self.column}<={treshold}' for treshold in self.tresholds]\n",
    "\n",
    "        ordinal_df = pd.DataFrame(arr.astype(dtype=bool), columns=columns_names, index=data.index)\n",
    "\n",
    "        return ordinal_df\n",
    "    \n",
    "    def get_tresholds(self):\n",
    "        return self.tresholds"
   ]
  },
  {
   "cell_type": "markdown",
   "id": "1823fb3f",
   "metadata": {},
   "source": [
    "# Data import"
   ]
  },
  {
   "cell_type": "code",
   "execution_count": 300,
   "id": "6c801f75",
   "metadata": {},
   "outputs": [
    {
     "name": "stdout",
     "output_type": "stream",
     "text": [
      "Skipping, found downloaded files in \".\\healthcare-diabetes\" (use force=True to force download)\n"
     ]
    },
    {
     "data": {
      "text/html": [
       "<div>\n",
       "<style scoped>\n",
       "    .dataframe tbody tr th:only-of-type {\n",
       "        vertical-align: middle;\n",
       "    }\n",
       "\n",
       "    .dataframe tbody tr th {\n",
       "        vertical-align: top;\n",
       "    }\n",
       "\n",
       "    .dataframe thead th {\n",
       "        text-align: right;\n",
       "    }\n",
       "</style>\n",
       "<table border=\"1\" class=\"dataframe\">\n",
       "  <thead>\n",
       "    <tr style=\"text-align: right;\">\n",
       "      <th></th>\n",
       "      <th>Pregnancies</th>\n",
       "      <th>Glucose</th>\n",
       "      <th>BloodPressure</th>\n",
       "      <th>SkinThickness</th>\n",
       "      <th>Insulin</th>\n",
       "      <th>BMI</th>\n",
       "      <th>DiabetesPedigreeFunction</th>\n",
       "      <th>Age</th>\n",
       "      <th>Outcome</th>\n",
       "    </tr>\n",
       "  </thead>\n",
       "  <tbody>\n",
       "    <tr>\n",
       "      <th>0</th>\n",
       "      <td>3</td>\n",
       "      <td>130</td>\n",
       "      <td>64</td>\n",
       "      <td>0</td>\n",
       "      <td>0</td>\n",
       "      <td>23.1</td>\n",
       "      <td>0.314</td>\n",
       "      <td>22</td>\n",
       "      <td>0</td>\n",
       "    </tr>\n",
       "    <tr>\n",
       "      <th>1</th>\n",
       "      <td>2</td>\n",
       "      <td>129</td>\n",
       "      <td>74</td>\n",
       "      <td>26</td>\n",
       "      <td>205</td>\n",
       "      <td>33.2</td>\n",
       "      <td>0.591</td>\n",
       "      <td>25</td>\n",
       "      <td>0</td>\n",
       "    </tr>\n",
       "    <tr>\n",
       "      <th>2</th>\n",
       "      <td>0</td>\n",
       "      <td>101</td>\n",
       "      <td>64</td>\n",
       "      <td>17</td>\n",
       "      <td>0</td>\n",
       "      <td>21.0</td>\n",
       "      <td>0.252</td>\n",
       "      <td>21</td>\n",
       "      <td>0</td>\n",
       "    </tr>\n",
       "    <tr>\n",
       "      <th>3</th>\n",
       "      <td>4</td>\n",
       "      <td>154</td>\n",
       "      <td>72</td>\n",
       "      <td>29</td>\n",
       "      <td>126</td>\n",
       "      <td>31.3</td>\n",
       "      <td>0.338</td>\n",
       "      <td>37</td>\n",
       "      <td>0</td>\n",
       "    </tr>\n",
       "    <tr>\n",
       "      <th>4</th>\n",
       "      <td>3</td>\n",
       "      <td>120</td>\n",
       "      <td>70</td>\n",
       "      <td>30</td>\n",
       "      <td>135</td>\n",
       "      <td>42.9</td>\n",
       "      <td>0.452</td>\n",
       "      <td>30</td>\n",
       "      <td>0</td>\n",
       "    </tr>\n",
       "  </tbody>\n",
       "</table>\n",
       "</div>"
      ],
      "text/plain": [
       "   Pregnancies  Glucose  BloodPressure  SkinThickness  Insulin   BMI  \\\n",
       "0            3      130             64              0        0  23.1   \n",
       "1            2      129             74             26      205  33.2   \n",
       "2            0      101             64             17        0  21.0   \n",
       "3            4      154             72             29      126  31.3   \n",
       "4            3      120             70             30      135  42.9   \n",
       "\n",
       "   DiabetesPedigreeFunction  Age  Outcome  \n",
       "0                     0.314   22        0  \n",
       "1                     0.591   25        0  \n",
       "2                     0.252   21        0  \n",
       "3                     0.338   37        0  \n",
       "4                     0.452   30        0  "
      ]
     },
     "execution_count": 300,
     "metadata": {},
     "output_type": "execute_result"
    }
   ],
   "source": [
    "# https://www.kaggle.com/datasets/nanditapore/healthcare-diabetes\n",
    "    \n",
    "import opendatasets as od \n",
    "\n",
    "dataset_name = 'cancer-prediction-dataset'\n",
    "\n",
    "od.download(\"https://www.kaggle.com/datasets/nanditapore/healthcare-diabetes\") \n",
    "\n",
    "path = 'healthcare-diabetes/Healthcare-Diabetes.csv'\n",
    "df = pd.read_csv(path)\n",
    "\n",
    "# Since LazyFCA is relativly slow algorithm I've truncated dataset to a 1000 instances\n",
    "# I've also decided to balance classes to make it easier to understand the results\n",
    "df_0 = df[df['Outcome'] == 0].sample(n=500, ignore_index=True).drop(['Id'], axis=1)\n",
    "df_1 = df[df['Outcome'] == 1].sample(n=500, ignore_index=True).drop(['Id'], axis=1)\n",
    "\n",
    "df = pd.concat([df_0, df_1], ignore_index=True)\n",
    "\n",
    "df.head()"
   ]
  },
  {
   "cell_type": "code",
   "execution_count": 301,
   "id": "93ad0b10",
   "metadata": {},
   "outputs": [
    {
     "data": {
      "text/plain": [
       "(1000, 9)"
      ]
     },
     "execution_count": 301,
     "metadata": {},
     "output_type": "execute_result"
    }
   ],
   "source": [
    "df.shape"
   ]
  },
  {
   "cell_type": "markdown",
   "id": "70f2607d",
   "metadata": {},
   "source": [
    "# EDA"
   ]
  },
  {
   "cell_type": "code",
   "execution_count": 302,
   "id": "6c7ed865",
   "metadata": {
    "scrolled": true
   },
   "outputs": [
    {
     "data": {
      "text/html": [
       "<div>\n",
       "<style scoped>\n",
       "    .dataframe tbody tr th:only-of-type {\n",
       "        vertical-align: middle;\n",
       "    }\n",
       "\n",
       "    .dataframe tbody tr th {\n",
       "        vertical-align: top;\n",
       "    }\n",
       "\n",
       "    .dataframe thead th {\n",
       "        text-align: right;\n",
       "    }\n",
       "</style>\n",
       "<table border=\"1\" class=\"dataframe\">\n",
       "  <thead>\n",
       "    <tr style=\"text-align: right;\">\n",
       "      <th></th>\n",
       "      <th>Pregnancies</th>\n",
       "      <th>Glucose</th>\n",
       "      <th>BloodPressure</th>\n",
       "      <th>SkinThickness</th>\n",
       "      <th>Insulin</th>\n",
       "      <th>BMI</th>\n",
       "      <th>DiabetesPedigreeFunction</th>\n",
       "      <th>Age</th>\n",
       "      <th>Outcome</th>\n",
       "    </tr>\n",
       "  </thead>\n",
       "  <tbody>\n",
       "    <tr>\n",
       "      <th>count</th>\n",
       "      <td>1000.000000</td>\n",
       "      <td>1000.000000</td>\n",
       "      <td>1000.000000</td>\n",
       "      <td>1000.000000</td>\n",
       "      <td>1000.000000</td>\n",
       "      <td>1000.000000</td>\n",
       "      <td>1000.000000</td>\n",
       "      <td>1000.000000</td>\n",
       "      <td>1000.00000</td>\n",
       "    </tr>\n",
       "    <tr>\n",
       "      <th>mean</th>\n",
       "      <td>4.021000</td>\n",
       "      <td>125.684000</td>\n",
       "      <td>69.340000</td>\n",
       "      <td>20.874000</td>\n",
       "      <td>83.266000</td>\n",
       "      <td>32.882700</td>\n",
       "      <td>0.487103</td>\n",
       "      <td>34.332000</td>\n",
       "      <td>0.50000</td>\n",
       "    </tr>\n",
       "    <tr>\n",
       "      <th>std</th>\n",
       "      <td>3.565848</td>\n",
       "      <td>32.830839</td>\n",
       "      <td>20.907834</td>\n",
       "      <td>16.724588</td>\n",
       "      <td>121.339072</td>\n",
       "      <td>8.113432</td>\n",
       "      <td>0.343468</td>\n",
       "      <td>11.823348</td>\n",
       "      <td>0.50025</td>\n",
       "    </tr>\n",
       "    <tr>\n",
       "      <th>min</th>\n",
       "      <td>0.000000</td>\n",
       "      <td>0.000000</td>\n",
       "      <td>0.000000</td>\n",
       "      <td>0.000000</td>\n",
       "      <td>0.000000</td>\n",
       "      <td>0.000000</td>\n",
       "      <td>0.085000</td>\n",
       "      <td>21.000000</td>\n",
       "      <td>0.00000</td>\n",
       "    </tr>\n",
       "    <tr>\n",
       "      <th>25%</th>\n",
       "      <td>1.000000</td>\n",
       "      <td>102.000000</td>\n",
       "      <td>64.000000</td>\n",
       "      <td>0.000000</td>\n",
       "      <td>0.000000</td>\n",
       "      <td>28.000000</td>\n",
       "      <td>0.240750</td>\n",
       "      <td>24.000000</td>\n",
       "      <td>0.00000</td>\n",
       "    </tr>\n",
       "    <tr>\n",
       "      <th>50%</th>\n",
       "      <td>3.000000</td>\n",
       "      <td>122.000000</td>\n",
       "      <td>72.000000</td>\n",
       "      <td>24.000000</td>\n",
       "      <td>14.000000</td>\n",
       "      <td>32.800000</td>\n",
       "      <td>0.380500</td>\n",
       "      <td>31.000000</td>\n",
       "      <td>0.50000</td>\n",
       "    </tr>\n",
       "    <tr>\n",
       "      <th>75%</th>\n",
       "      <td>6.000000</td>\n",
       "      <td>147.000000</td>\n",
       "      <td>80.000000</td>\n",
       "      <td>33.000000</td>\n",
       "      <td>135.000000</td>\n",
       "      <td>37.600000</td>\n",
       "      <td>0.645000</td>\n",
       "      <td>42.000000</td>\n",
       "      <td>1.00000</td>\n",
       "    </tr>\n",
       "    <tr>\n",
       "      <th>max</th>\n",
       "      <td>17.000000</td>\n",
       "      <td>199.000000</td>\n",
       "      <td>114.000000</td>\n",
       "      <td>110.000000</td>\n",
       "      <td>846.000000</td>\n",
       "      <td>59.400000</td>\n",
       "      <td>2.420000</td>\n",
       "      <td>81.000000</td>\n",
       "      <td>1.00000</td>\n",
       "    </tr>\n",
       "  </tbody>\n",
       "</table>\n",
       "</div>"
      ],
      "text/plain": [
       "       Pregnancies      Glucose  BloodPressure  SkinThickness      Insulin  \\\n",
       "count  1000.000000  1000.000000    1000.000000    1000.000000  1000.000000   \n",
       "mean      4.021000   125.684000      69.340000      20.874000    83.266000   \n",
       "std       3.565848    32.830839      20.907834      16.724588   121.339072   \n",
       "min       0.000000     0.000000       0.000000       0.000000     0.000000   \n",
       "25%       1.000000   102.000000      64.000000       0.000000     0.000000   \n",
       "50%       3.000000   122.000000      72.000000      24.000000    14.000000   \n",
       "75%       6.000000   147.000000      80.000000      33.000000   135.000000   \n",
       "max      17.000000   199.000000     114.000000     110.000000   846.000000   \n",
       "\n",
       "               BMI  DiabetesPedigreeFunction          Age     Outcome  \n",
       "count  1000.000000               1000.000000  1000.000000  1000.00000  \n",
       "mean     32.882700                  0.487103    34.332000     0.50000  \n",
       "std       8.113432                  0.343468    11.823348     0.50025  \n",
       "min       0.000000                  0.085000    21.000000     0.00000  \n",
       "25%      28.000000                  0.240750    24.000000     0.00000  \n",
       "50%      32.800000                  0.380500    31.000000     0.50000  \n",
       "75%      37.600000                  0.645000    42.000000     1.00000  \n",
       "max      59.400000                  2.420000    81.000000     1.00000  "
      ]
     },
     "execution_count": 302,
     "metadata": {},
     "output_type": "execute_result"
    }
   ],
   "source": [
    "df.describe(include='all')"
   ]
  },
  {
   "cell_type": "markdown",
   "id": "0228fb98",
   "metadata": {},
   "source": [
    "### Target distribution\n",
    "\n",
    "Distribution is skewed towards class 0. To asses the quality of the model correctly we need to use metrics that work with unbalanced classes"
   ]
  },
  {
   "cell_type": "code",
   "execution_count": 303,
   "id": "abec4954",
   "metadata": {},
   "outputs": [
    {
     "data": {
      "image/png": "[encoded data removed]",
      "text/plain": [
       "<Figure size 432x288 with 1 Axes>"
      ]
     },
     "metadata": {
      "needs_background": "light"
     },
     "output_type": "display_data"
    }
   ],
   "source": [
    "_ = df['Outcome'].value_counts().plot.bar()"
   ]
  },
  {
   "cell_type": "markdown",
   "id": "93f89829",
   "metadata": {},
   "source": [
    "### Attributes corelation with target\n",
    "\n",
    "Glucose and Insulin are corellated (0.323445) since glucose is heavily corellated with target it is sensable to remove Insulin from the dataset if the model will be overfitting. Also Skin thickness and insulin are corelated (0.445345), so it is yet another indicator that insulin might affect the predictions badly, however if we were making conclusions based on the general knowlege of diabities this assumption would be counterintuitive since insulin is one of the most important chemical in the diabities, so further research is needed"
   ]
  },
  {
   "cell_type": "code",
   "execution_count": 304,
   "id": "7c856a15",
   "metadata": {},
   "outputs": [
    {
     "data": {
      "text/plain": [
       "Index(['BloodPressure', 'SkinThickness', 'Insulin', 'DiabetesPedigreeFunction',\n",
       "       'Pregnancies', 'Age', 'BMI', 'Glucose', 'Outcome'],\n",
       "      dtype='object')"
      ]
     },
     "execution_count": 304,
     "metadata": {},
     "output_type": "execute_result"
    }
   ],
   "source": [
    "corr = df.select_dtypes('number').corr()\n",
    "\n",
    "corr['Outcome'].sort_values().index"
   ]
  },
  {
   "cell_type": "code",
   "execution_count": 305,
   "id": "0470a5ce",
   "metadata": {},
   "outputs": [
    {
     "data": {
      "text/plain": [
       "<Axes: >"
      ]
     },
     "execution_count": 305,
     "metadata": {},
     "output_type": "execute_result"
    },
    {
     "data": {
      "image/png": "[encoded data removed]",
      "text/plain": [
       "<Figure size 432x288 with 2 Axes>"
      ]
     },
     "metadata": {
      "needs_background": "light"
     },
     "output_type": "display_data"
    }
   ],
   "source": [
    "import seaborn as sns\n",
    "%matplotlib inline\n",
    "\n",
    "sns.heatmap(corr)"
   ]
  },
  {
   "cell_type": "code",
   "execution_count": 306,
   "id": "cdea6a7e",
   "metadata": {},
   "outputs": [
    {
     "data": {
      "image/png": "[encoded data removed]",
      "text/plain": [
       "<Figure size 864x1728 with 16 Axes>"
      ]
     },
     "metadata": {
      "needs_background": "light"
     },
     "output_type": "display_data"
    }
   ],
   "source": [
    "plotIndex = 1\n",
    "\n",
    "columns = corr['Outcome'].sort_values(ascending = False)[1:].index\n",
    "\n",
    "nrows, ncols = len(columns), 2 \n",
    "\n",
    "fig, ax = plt.subplots(nrows = nrows, ncols = ncols, figsize=(6*ncols, 3*nrows))\n",
    "\n",
    "for i, col in enumerate(columns):\n",
    "# for col in ['Insulin']:\n",
    "    \n",
    "    sns.kdeplot(df, x=col, fill=True, linewidth=2, \n",
    "                color='#5c1031', alpha=0.6, edgecolor='k',\n",
    "                ax=ax[i][0])\n",
    "    \n",
    "    ax[i][0].axvline(df[col].mean(), color='grey', linestyle='--', linewidth=2)\n",
    "    \n",
    "    ax[i][0].set_xlabel(xlabel=col, fontsize=12, weight='bold')\n",
    "    ax[i][0].set_ylabel(ylabel='Density', fontsize=12, weight='bold')\n",
    "    sns.despine()\n",
    "\n",
    "    sns.kdeplot(df, x=col, fill=True, hue='Outcome', \n",
    "                linewidth=2, palette='rocket', alpha=0.6, \n",
    "                ax=ax[i][1])\n",
    "    \n",
    "    \n",
    "    ax[i][1].axvline(df[df['Outcome'] == 0][col].mean(), color='purple', linestyle='--', linewidth=2)\n",
    "    ax[i][1].axvline(df[df['Outcome'] == 1][col].mean(), color='salmon', linestyle='--', linewidth=2)\n",
    "    \n",
    "    ax[i][1].set_xlabel(xlabel=col, fontsize=12, weight='bold')\n",
    "    ax[i][1].set_ylabel(ylabel='Density', fontsize=12, weight='bold')\n",
    "    sns.despine()\n",
    "\n",
    "    \n",
    "plt.subplots_adjust(hspace=0.6)    \n",
    "plt.show()"
   ]
  },
  {
   "cell_type": "markdown",
   "id": "9e8ad8e8",
   "metadata": {},
   "source": [
    "### Glucose"
   ]
  },
  {
   "cell_type": "markdown",
   "id": "9501a7b7",
   "metadata": {},
   "source": [
    "Good tresholds for Glucose can be seen below. For analysis of better tresholds I ploted mean outcome of a current value as well as number of samples of current value. By visual analysis I've chosen [75, 118, 153]"
   ]
  },
  {
   "cell_type": "code",
   "execution_count": 307,
   "id": "90427708",
   "metadata": {},
   "outputs": [
    {
     "data": {
      "image/png": "[encoded data removed]",
      "text/plain": [
       "<Figure size 864x432 with 2 Axes>"
      ]
     },
     "metadata": {
      "needs_background": "light"
     },
     "output_type": "display_data"
    }
   ],
   "source": [
    "temp_df = df[['Glucose', 'Outcome']]\n",
    "\n",
    "temp_df.loc[:, 'Glucose'] = (temp_df['Glucose']//5)*5\n",
    "\n",
    "\n",
    "nrows, ncols = 1, 1\n",
    "\n",
    "fig, ax = plt.subplots(nrows = nrows, ncols = ncols, figsize=(12, 6))\n",
    "\n",
    "_ = temp_df.groupby(['Glucose'])['Outcome'].mean().plot(ax=ax, label='Proportion')\n",
    "ax2 = ax.twinx()\n",
    "_ = (temp_df.groupby(['Glucose'])['Outcome'].count()).plot(ax=ax2, color='k', alpha=0.5, label='Count')\n",
    "\n",
    "\n",
    "\n",
    "_ = ax.axvline(75, color='pink', linestyle='--', linewidth=2)\n",
    "_ = ax.axvline(118, color='pink', linestyle='--', linewidth=2)\n",
    "_ = ax.axvline(153, color='pink', linestyle='--', linewidth=2)\n",
    "_ = ax.axhline(0.5, color='pink', linestyle='--', linewidth=2)\n",
    "\n",
    "ax.legend()\n",
    "ax2.legend()\n",
    "\n",
    "custom_tresholds = {}\n",
    "custom_tresholds['Glucose'] = [75, 118, 153]"
   ]
  },
  {
   "cell_type": "markdown",
   "id": "0c149c76",
   "metadata": {},
   "source": [
    "### BMI"
   ]
  },
  {
   "cell_type": "markdown",
   "id": "ddafd132",
   "metadata": {},
   "source": [
    "good tresholds are 24 and 40, since for values <= 24 there are small chance of diabetes, for values between 24 and 40 - medium chance, for values higher than 40 - high chance of diabeties "
   ]
  },
  {
   "cell_type": "code",
   "execution_count": 308,
   "id": "fe2c1372",
   "metadata": {},
   "outputs": [
    {
     "data": {
      "image/png": "[encoded data removed]",
      "text/plain": [
       "<Figure size 864x432 with 2 Axes>"
      ]
     },
     "metadata": {
      "needs_background": "light"
     },
     "output_type": "display_data"
    }
   ],
   "source": [
    "temp_df = df[['BMI', 'Outcome']]\n",
    "\n",
    "temp_df.loc[:, 'BMI'] = (temp_df['BMI']//2)*2\n",
    "\n",
    "\n",
    "nrows, ncols = 1, 1\n",
    "\n",
    "fig, ax = plt.subplots(nrows = nrows, ncols = ncols, figsize=(12, 6))\n",
    "\n",
    "_ = temp_df.groupby(['BMI'])['Outcome'].mean().plot(ax=ax, label='Proportion')\n",
    "ax2 = ax.twinx()\n",
    "_ = (temp_df.groupby(['BMI'])['Outcome'].count()).plot(ax=ax2, color='r', alpha=0.5, label='Count')\n",
    "\n",
    "\n",
    "\n",
    "_ = ax.axvline(40, color='pink', linestyle='--', linewidth=2)\n",
    "_ = ax.axvline(24, color='pink', linestyle='--', linewidth=2)\n",
    "# _ = ax.axvline(153, color='pink', linestyle='--', linewidth=2)\n",
    "# _ = ax.axhline(0.5, color='pink', linestyle='--', linewidth=2)\n",
    "\n",
    "ax.legend()\n",
    "ax2.legend()\n",
    "\n",
    "custom_tresholds['BMI'] = [24, 40, 70]"
   ]
  },
  {
   "cell_type": "markdown",
   "id": "25c8832e",
   "metadata": {},
   "source": [
    "### Age"
   ]
  },
  {
   "cell_type": "markdown",
   "id": "6cbef8d1",
   "metadata": {},
   "source": []
  },
  {
   "cell_type": "code",
   "execution_count": 309,
   "id": "818e95b2",
   "metadata": {},
   "outputs": [
    {
     "data": {
      "text/plain": [
       "<matplotlib.legend.Legend at 0x1eea89432b0>"
      ]
     },
     "execution_count": 309,
     "metadata": {},
     "output_type": "execute_result"
    },
    {
     "data": {
      "image/png": "[encoded data removed]",
      "text/plain": [
       "<Figure size 864x432 with 2 Axes>"
      ]
     },
     "metadata": {
      "needs_background": "light"
     },
     "output_type": "display_data"
    }
   ],
   "source": [
    "temp_df = df[['Age', 'Outcome']]\n",
    "\n",
    "temp_df.loc[:, 'Age'] = (temp_df['Age']//2)*2\n",
    "\n",
    "\n",
    "nrows, ncols = 1, 1\n",
    "\n",
    "fig, ax = plt.subplots(nrows = nrows, ncols = ncols, figsize=(12, 6))\n",
    "\n",
    "_ = temp_df.groupby(['Age'])['Outcome'].mean().plot(ax=ax, label='Proportion')\n",
    "ax2 = ax.twinx()\n",
    "_ = (temp_df.groupby(['Age'])['Outcome'].count()).plot(ax=ax2, color='r', alpha=0.5, label='Count')\n",
    "\n",
    "\n",
    "\n",
    "_ = ax.axvline(40, color='pink', linestyle='--', linewidth=2)\n",
    "_ = ax.axvline(28, color='pink', linestyle='--', linewidth=2)\n",
    "_ = ax.axvline(54, color='pink', linestyle='--', linewidth=2)\n",
    "_ = ax.axhline(0.68, color='pink', linestyle='--', linewidth=2)\n",
    "\n",
    "ax.legend()\n",
    "ax2.legend()\n",
    "\n",
    "# custom_tresholds['Age'] = [24, 40, 70]"
   ]
  },
  {
   "cell_type": "markdown",
   "id": "00716214",
   "metadata": {},
   "source": [
    "For the remaining attributes lets for now use 25%, 50%, 75% percentile since they are less important"
   ]
  },
  {
   "cell_type": "markdown",
   "id": "6e7e52ca",
   "metadata": {},
   "source": [
    "# Preprocessing"
   ]
  },
  {
   "cell_type": "markdown",
   "id": "2a6dc8d1",
   "metadata": {},
   "source": [
    "I've removed skinthickness and blood pressure since they are weakly correlated with target and LazyFca algorthm will take longer time to classify objects"
   ]
  },
  {
   "cell_type": "code",
   "execution_count": 310,
   "id": "c84aa222",
   "metadata": {},
   "outputs": [],
   "source": [
    "useful_columns = ['Insulin', 'DiabetesPedigreeFunction', 'Pregnancies', 'Age', 'BMI', 'Glucose', 'Outcome']\n",
    "\n",
    "df_useful = df[useful_columns]"
   ]
  },
  {
   "cell_type": "markdown",
   "id": "b534191d",
   "metadata": {},
   "source": [
    "Splitting into test and train:"
   ]
  },
  {
   "cell_type": "code",
   "execution_count": 311,
   "id": "8ad883ba",
   "metadata": {},
   "outputs": [],
   "source": [
    "from sklearn.model_selection import train_test_split\n",
    "\n",
    "\n",
    "X_train, X_test, y_train, y_test = train_test_split(\n",
    "                                                    df_useful.drop([\"Outcome\"], axis=1), # X\n",
    "                                                    df_useful[\"Outcome\"], # y\n",
    "                                                    test_size=0.2, # доля от всех записей\n",
    "                                                    random_state=777, # зерно\n",
    "                                                    stratify=df_useful[\"Outcome\"]\n",
    "                                        )"
   ]
  },
  {
   "cell_type": "code",
   "execution_count": 312,
   "id": "f223e033",
   "metadata": {},
   "outputs": [
    {
     "data": {
      "text/plain": [
       "Index(['Insulin', 'DiabetesPedigreeFunction', 'Pregnancies', 'Age', 'BMI',\n",
       "       'Glucose'],\n",
       "      dtype='object')"
      ]
     },
     "execution_count": 312,
     "metadata": {},
     "output_type": "execute_result"
    }
   ],
   "source": [
    "X_train.columns"
   ]
  },
  {
   "cell_type": "markdown",
   "id": "3913c9a1",
   "metadata": {},
   "source": [
    "Scaling:\n",
    "\n",
    "For binarizing I use ordinal scale. The code for this scaler is in the begging of this doc"
   ]
  },
  {
   "cell_type": "code",
   "execution_count": 313,
   "id": "b5dc8817",
   "metadata": {},
   "outputs": [
    {
     "data": {
      "text/plain": [
       "((800, 18), (200, 18))"
      ]
     },
     "execution_count": 313,
     "metadata": {},
     "output_type": "execute_result"
    }
   ],
   "source": [
    "X_train_scaled = pd.DataFrame(index = X_train.index)\n",
    "X_test_scaled = pd.DataFrame(index = X_test.index)\n",
    "\n",
    "scaler_dict = {}\n",
    "\n",
    "columns = ['Insulin', 'DiabetesPedigreeFunction', 'Pregnancies', 'Age', 'BMI']\n",
    "\n",
    "for column in X_train:\n",
    "    scaler_dict[column] = OrdinalScaler(column)\n",
    "    if column in custom_tresholds.keys():\n",
    "        scaler_dict[column].fit(X_train, custom_tresholds[column])\n",
    "    else:\n",
    "        scaler_dict[column].fit(X_train, [])\n",
    "    scaled_data = scaler_dict[column].scale(X_train)\n",
    "    scaled_data_test = scaler_dict[column].scale(X_test)\n",
    "    X_train_scaled = pd.concat([X_train_scaled, scaled_data], axis=1)\n",
    "    X_test_scaled = pd.concat([X_test_scaled, scaled_data_test], axis=1)\n",
    "    \n",
    "    \n",
    "X_train_scaled.shape, X_test_scaled.shape"
   ]
  },
  {
   "cell_type": "markdown",
   "id": "56174f0d",
   "metadata": {},
   "source": [
    "Checking if scaling is correct:\n",
    "\n",
    "(Spoiler: it is)"
   ]
  },
  {
   "cell_type": "code",
   "execution_count": 314,
   "id": "1471ca16",
   "metadata": {},
   "outputs": [
    {
     "data": {
      "text/plain": [
       "Insulin                     57.000\n",
       "DiabetesPedigreeFunction     1.096\n",
       "Pregnancies                  1.000\n",
       "Age                         32.000\n",
       "BMI                         46.300\n",
       "Glucose                     81.000\n",
       "Outcome                      0.000\n",
       "Name: 25, dtype: float64"
      ]
     },
     "execution_count": 314,
     "metadata": {},
     "output_type": "execute_result"
    }
   ],
   "source": [
    "df_useful.loc[25]"
   ]
  },
  {
   "cell_type": "code",
   "execution_count": 315,
   "id": "6a6ecb0f",
   "metadata": {},
   "outputs": [
    {
     "data": {
      "text/plain": [
       "Insulin<=0.0                                    False\n",
       "Insulin<=37.0                                   False\n",
       "Insulin<=135.0                                   True\n",
       "DiabetesPedigreeFunction<=0.245                 False\n",
       "DiabetesPedigreeFunction<=0.389                 False\n",
       "DiabetesPedigreeFunction<=0.6525000000000001    False\n",
       "Pregnancies<=1.0                                 True\n",
       "Pregnancies<=3.0                                 True\n",
       "Pregnancies<=6.0                                 True\n",
       "Age<=25.0                                       False\n",
       "Age<=31.0                                       False\n",
       "Age<=42.0                                        True\n",
       "BMI<=24                                         False\n",
       "BMI<=40                                         False\n",
       "BMI<=70                                          True\n",
       "Glucose<=75                                     False\n",
       "Glucose<=118                                     True\n",
       "Glucose<=153                                     True\n",
       "Name: 25, dtype: bool"
      ]
     },
     "execution_count": 315,
     "metadata": {},
     "output_type": "execute_result"
    }
   ],
   "source": [
    "X_train_scaled.loc[25]"
   ]
  },
  {
   "cell_type": "markdown",
   "id": "9025bd58",
   "metadata": {},
   "source": [
    "# Training Lazy classificator"
   ]
  },
  {
   "cell_type": "code",
   "execution_count": 316,
   "id": "b79a6d38",
   "metadata": {},
   "outputs": [],
   "source": [
    "classifier = LazyClassifierFCA()\n",
    "classifier.fit(X_train_scaled, y_train)"
   ]
  },
  {
   "cell_type": "code",
   "execution_count": 317,
   "id": "e94b33a6",
   "metadata": {},
   "outputs": [
    {
     "name": "stderr",
     "output_type": "stream",
     "text": [
      "200it [02:03,  1.63it/s]\n"
     ]
    }
   ],
   "source": [
    "# from time import time\n",
    "\n",
    "y_lazy_pred = classifier.predict(X_test_scaled)"
   ]
  },
  {
   "cell_type": "code",
   "execution_count": 318,
   "id": "6dee9ab9",
   "metadata": {},
   "outputs": [
    {
     "data": {
      "text/html": [
       "<div>\n",
       "<style scoped>\n",
       "    .dataframe tbody tr th:only-of-type {\n",
       "        vertical-align: middle;\n",
       "    }\n",
       "\n",
       "    .dataframe tbody tr th {\n",
       "        vertical-align: top;\n",
       "    }\n",
       "\n",
       "    .dataframe thead th {\n",
       "        text-align: right;\n",
       "    }\n",
       "</style>\n",
       "<table border=\"1\" class=\"dataframe\">\n",
       "  <thead>\n",
       "    <tr style=\"text-align: right;\">\n",
       "      <th></th>\n",
       "      <th>accuracy</th>\n",
       "      <th>F1</th>\n",
       "      <th>TN</th>\n",
       "      <th>FP</th>\n",
       "      <th>FN</th>\n",
       "      <th>TP</th>\n",
       "      <th>Specificity</th>\n",
       "      <th>Sensitivity_Recall</th>\n",
       "      <th>FPR</th>\n",
       "      <th>FDR</th>\n",
       "      <th>Precision</th>\n",
       "    </tr>\n",
       "  </thead>\n",
       "  <tbody>\n",
       "    <tr>\n",
       "      <th>LazyFCA (my tresholds)</th>\n",
       "      <td>0.635</td>\n",
       "      <td>0.730627</td>\n",
       "      <td>28.0</td>\n",
       "      <td>72.0</td>\n",
       "      <td>1.0</td>\n",
       "      <td>99.0</td>\n",
       "      <td>0.28</td>\n",
       "      <td>0.99</td>\n",
       "      <td>0.72</td>\n",
       "      <td>0.421053</td>\n",
       "      <td>0.578947</td>\n",
       "    </tr>\n",
       "    <tr>\n",
       "      <th>DTC (my tresholds)</th>\n",
       "      <td>0.825</td>\n",
       "      <td>0.832536</td>\n",
       "      <td>78.0</td>\n",
       "      <td>22.0</td>\n",
       "      <td>13.0</td>\n",
       "      <td>87.0</td>\n",
       "      <td>0.78</td>\n",
       "      <td>0.87</td>\n",
       "      <td>0.22</td>\n",
       "      <td>0.201835</td>\n",
       "      <td>0.798165</td>\n",
       "    </tr>\n",
       "    <tr>\n",
       "      <th>DTC numerical attributes</th>\n",
       "      <td>0.870</td>\n",
       "      <td>0.875000</td>\n",
       "      <td>83.0</td>\n",
       "      <td>17.0</td>\n",
       "      <td>9.0</td>\n",
       "      <td>91.0</td>\n",
       "      <td>0.83</td>\n",
       "      <td>0.91</td>\n",
       "      <td>0.17</td>\n",
       "      <td>0.157407</td>\n",
       "      <td>0.842593</td>\n",
       "    </tr>\n",
       "    <tr>\n",
       "      <th>Lazy+DCT att. 3 random</th>\n",
       "      <td>0.500</td>\n",
       "      <td>0.666667</td>\n",
       "      <td>0.0</td>\n",
       "      <td>100.0</td>\n",
       "      <td>0.0</td>\n",
       "      <td>100.0</td>\n",
       "      <td>0.00</td>\n",
       "      <td>1.00</td>\n",
       "      <td>1.00</td>\n",
       "      <td>0.500000</td>\n",
       "      <td>0.500000</td>\n",
       "    </tr>\n",
       "    <tr>\n",
       "      <th>Lazy+DCT att. 3 sparcly</th>\n",
       "      <td>0.535</td>\n",
       "      <td>0.682594</td>\n",
       "      <td>7.0</td>\n",
       "      <td>93.0</td>\n",
       "      <td>0.0</td>\n",
       "      <td>100.0</td>\n",
       "      <td>0.07</td>\n",
       "      <td>1.00</td>\n",
       "      <td>0.93</td>\n",
       "      <td>0.481865</td>\n",
       "      <td>0.518135</td>\n",
       "    </tr>\n",
       "    <tr>\n",
       "      <th>Lazy+DCT att. 3 important</th>\n",
       "      <td>0.655</td>\n",
       "      <td>0.743494</td>\n",
       "      <td>31.0</td>\n",
       "      <td>69.0</td>\n",
       "      <td>0.0</td>\n",
       "      <td>100.0</td>\n",
       "      <td>0.31</td>\n",
       "      <td>1.00</td>\n",
       "      <td>0.69</td>\n",
       "      <td>0.408284</td>\n",
       "      <td>0.591716</td>\n",
       "    </tr>\n",
       "    <tr>\n",
       "      <th>Lazy+DCT att. 3 shallow</th>\n",
       "      <td>0.720</td>\n",
       "      <td>0.779528</td>\n",
       "      <td>45.0</td>\n",
       "      <td>55.0</td>\n",
       "      <td>1.0</td>\n",
       "      <td>99.0</td>\n",
       "      <td>0.45</td>\n",
       "      <td>0.99</td>\n",
       "      <td>0.55</td>\n",
       "      <td>0.357143</td>\n",
       "      <td>0.642857</td>\n",
       "    </tr>\n",
       "  </tbody>\n",
       "</table>\n",
       "</div>"
      ],
      "text/plain": [
       "                           accuracy        F1    TN     FP    FN     TP  \\\n",
       "LazyFCA (my tresholds)        0.635  0.730627  28.0   72.0   1.0   99.0   \n",
       "DTC (my tresholds)            0.825  0.832536  78.0   22.0  13.0   87.0   \n",
       "DTC numerical attributes      0.870  0.875000  83.0   17.0   9.0   91.0   \n",
       "Lazy+DCT att. 3 random        0.500  0.666667   0.0  100.0   0.0  100.0   \n",
       "Lazy+DCT att. 3 sparcly       0.535  0.682594   7.0   93.0   0.0  100.0   \n",
       "Lazy+DCT att. 3 important     0.655  0.743494  31.0   69.0   0.0  100.0   \n",
       "Lazy+DCT att. 3 shallow       0.720  0.779528  45.0   55.0   1.0   99.0   \n",
       "\n",
       "                           Specificity  Sensitivity_Recall   FPR       FDR  \\\n",
       "LazyFCA (my tresholds)            0.28                0.99  0.72  0.421053   \n",
       "DTC (my tresholds)                0.78                0.87  0.22  0.201835   \n",
       "DTC numerical attributes          0.83                0.91  0.17  0.157407   \n",
       "Lazy+DCT att. 3 random            0.00                1.00  1.00  0.500000   \n",
       "Lazy+DCT att. 3 sparcly           0.07                1.00  0.93  0.481865   \n",
       "Lazy+DCT att. 3 important         0.31                1.00  0.69  0.408284   \n",
       "Lazy+DCT att. 3 shallow           0.45                0.99  0.55  0.357143   \n",
       "\n",
       "                           Precision  \n",
       "LazyFCA (my tresholds)      0.578947  \n",
       "DTC (my tresholds)          0.798165  \n",
       "DTC numerical attributes    0.842593  \n",
       "Lazy+DCT att. 3 random      0.500000  \n",
       "Lazy+DCT att. 3 sparcly     0.518135  \n",
       "Lazy+DCT att. 3 important   0.591716  \n",
       "Lazy+DCT att. 3 shallow     0.642857  "
      ]
     },
     "execution_count": 318,
     "metadata": {},
     "output_type": "execute_result"
    }
   ],
   "source": [
    "def metric_keeper(name_of_model, y_test, y_pred, df=None):\n",
    "    \n",
    "    if df is None:\n",
    "        df = pd.DataFrame(columns=[\n",
    "            'accuracy', 'F1', 'TN', 'FP', 'FN', 'TP',\n",
    "            'Specificity', 'Sensitivity_Recall', 'FPR', 'FDR', 'Precision'\n",
    "        ])\n",
    "    \n",
    "    TN, FP, FN, TP = confusion_matrix(y_test, y_pred).reshape(-1,)\n",
    "\n",
    "    Specificity = TN/(TN+FP)\n",
    "    Sensitivity_Recall = TP/(FN+TP)\n",
    "\n",
    "    accuracy = accuracy_score(y_test, y_pred)\n",
    "    F1 = f1_score(y_test, y_pred)\n",
    "    # NPV = TP/(TP+FP)\n",
    "    FPR = FP/(FP+TN)\n",
    "    FDR = FP/(FP+TP)\n",
    "\n",
    "    Precision = TP/(TP+FP)\n",
    "    \n",
    "    metric_arr = [accuracy, F1, TN, FP, FN, TP, Specificity, Sensitivity_Recall, FPR, FDR, Precision]\n",
    "    df.loc[name_of_model] = metric_arr\n",
    "    return df\n",
    "    \n",
    "    \n",
    "metric_df = metric_keeper('LazyFCA (my tresholds)', y_test, y_lazy_pred)\n",
    "metric_df"
   ]
  },
  {
   "cell_type": "code",
   "execution_count": 233,
   "id": "d02c6411",
   "metadata": {},
   "outputs": [
    {
     "data": {
      "image/png": "[encoded data removed]",
      "text/plain": [
       "<Figure size 432x288 with 2 Axes>"
      ]
     },
     "metadata": {
      "needs_background": "light"
     },
     "output_type": "display_data"
    }
   ],
   "source": [
    "from sklearn.metrics import confusion_matrix, ConfusionMatrixDisplay\n",
    "\n",
    "_ = ConfusionMatrixDisplay(confusion_matrix(y_test, y_lazy_pred)).plot()"
   ]
  },
  {
   "cell_type": "markdown",
   "id": "ad4eea64",
   "metadata": {},
   "source": [
    "# Training other models"
   ]
  },
  {
   "cell_type": "code",
   "execution_count": 254,
   "id": "8055d15d",
   "metadata": {},
   "outputs": [
    {
     "name": "stdout",
     "output_type": "stream",
     "text": [
      "Fitting 4 folds for each of 1728 candidates, totalling 6912 fits\n",
      "Wall time: 38.4 s\n"
     ]
    }
   ],
   "source": [
    "%%time\n",
    "\n",
    "from sklearn.metrics import f1_score\n",
    "from sklearn.model_selection import GridSearchCV\n",
    "from sklearn.model_selection import KFold\n",
    "from sklearn.tree import DecisionTreeClassifier\n",
    "\n",
    "param_grid = {\n",
    "    'criterion': ['gini', 'entropy', 'log_loss'],  # Function to measure split quality\n",
    "    'splitter': ['best', 'random'],                # Strategy to choose the split at each node\n",
    "    'max_depth': [None, 10, 20, 30, 40, 50],       # Maximum depth of the tree\n",
    "    'min_samples_split': [2, 5, 10, 20],           # Minimum number of samples to split a node\n",
    "    'min_samples_leaf': [1, 2, 4, 10],             # Minimum number of samples to be at a leaf node\n",
    "    'max_features': ['sqrt', 'log2', None]         # Number of features to consider for the best split\n",
    "}\n",
    "\n",
    "dtc = DecisionTreeClassifier(random_state=0)\n",
    "\n",
    "clf = GridSearchCV(dtc, param_grid, scoring=\"f1_macro\", verbose=1, cv=4)\n",
    "\n",
    "clf.fit(X_train_scaled, y_train)\n",
    "\n",
    "best_model = clf.best_estimator_\n",
    "best_model.fit(X_train_scaled, y_train)\n",
    "\n",
    "y_true, y_pred = y_test, best_model.predict(X_test_scaled)"
   ]
  },
  {
   "cell_type": "code",
   "execution_count": 256,
   "id": "54fe0a9d",
   "metadata": {},
   "outputs": [
    {
     "data": {
      "text/html": [
       "<div>\n",
       "<style scoped>\n",
       "    .dataframe tbody tr th:only-of-type {\n",
       "        vertical-align: middle;\n",
       "    }\n",
       "\n",
       "    .dataframe tbody tr th {\n",
       "        vertical-align: top;\n",
       "    }\n",
       "\n",
       "    .dataframe thead th {\n",
       "        text-align: right;\n",
       "    }\n",
       "</style>\n",
       "<table border=\"1\" class=\"dataframe\">\n",
       "  <thead>\n",
       "    <tr style=\"text-align: right;\">\n",
       "      <th></th>\n",
       "      <th>accuracy</th>\n",
       "      <th>F1</th>\n",
       "      <th>TN</th>\n",
       "      <th>FP</th>\n",
       "      <th>FN</th>\n",
       "      <th>TP</th>\n",
       "      <th>Specificity</th>\n",
       "      <th>Sensitivity_Recall</th>\n",
       "      <th>FPR</th>\n",
       "      <th>FDR</th>\n",
       "      <th>Precision</th>\n",
       "    </tr>\n",
       "  </thead>\n",
       "  <tbody>\n",
       "    <tr>\n",
       "      <th>LazyFCA (my tresholds)</th>\n",
       "      <td>0.720</td>\n",
       "      <td>0.779528</td>\n",
       "      <td>45.0</td>\n",
       "      <td>55.0</td>\n",
       "      <td>1.0</td>\n",
       "      <td>99.0</td>\n",
       "      <td>0.45</td>\n",
       "      <td>0.99</td>\n",
       "      <td>0.55</td>\n",
       "      <td>0.357143</td>\n",
       "      <td>0.642857</td>\n",
       "    </tr>\n",
       "    <tr>\n",
       "      <th>DTC (my tresholds)</th>\n",
       "      <td>0.825</td>\n",
       "      <td>0.832536</td>\n",
       "      <td>78.0</td>\n",
       "      <td>22.0</td>\n",
       "      <td>13.0</td>\n",
       "      <td>87.0</td>\n",
       "      <td>0.78</td>\n",
       "      <td>0.87</td>\n",
       "      <td>0.22</td>\n",
       "      <td>0.201835</td>\n",
       "      <td>0.798165</td>\n",
       "    </tr>\n",
       "  </tbody>\n",
       "</table>\n",
       "</div>"
      ],
      "text/plain": [
       "                        accuracy        F1    TN    FP    FN    TP  \\\n",
       "LazyFCA (my tresholds)     0.720  0.779528  45.0  55.0   1.0  99.0   \n",
       "DTC (my tresholds)         0.825  0.832536  78.0  22.0  13.0  87.0   \n",
       "\n",
       "                        Specificity  Sensitivity_Recall   FPR       FDR  \\\n",
       "LazyFCA (my tresholds)         0.45                0.99  0.55  0.357143   \n",
       "DTC (my tresholds)             0.78                0.87  0.22  0.201835   \n",
       "\n",
       "                        Precision  \n",
       "LazyFCA (my tresholds)   0.642857  \n",
       "DTC (my tresholds)       0.798165  "
      ]
     },
     "execution_count": 256,
     "metadata": {},
     "output_type": "execute_result"
    }
   ],
   "source": [
    "metric_df = metric_keeper('DTC (my tresholds)', y_test, y_pred, metric_df)\n",
    "metric_df"
   ]
  },
  {
   "cell_type": "code",
   "execution_count": 257,
   "id": "36a6431a",
   "metadata": {},
   "outputs": [
    {
     "data": {
      "image/png": "[encoded data removed]",
      "text/plain": [
       "<Figure size 432x288 with 2 Axes>"
      ]
     },
     "metadata": {
      "needs_background": "light"
     },
     "output_type": "display_data"
    }
   ],
   "source": [
    "_ = ConfusionMatrixDisplay(confusion_matrix(y_test, y_pred)).plot()"
   ]
  },
  {
   "cell_type": "markdown",
   "id": "3a167aeb",
   "metadata": {},
   "source": [
    "## Searching for optimal tresholds using decision tree classifier and numerical attributes\n",
    "\n",
    "Since finding a tresholds by hand is very challeging task I've decided to use tresholds that decision tree classifier (DCT) provides. It is counterintuitive to do so, since DTC can be described as stochastic version of FCA based classifiers, but I've decided to try anyway\n",
    "\n",
    "Firstly we need to train DCT on the numerical data"
   ]
  },
  {
   "cell_type": "code",
   "execution_count": 258,
   "id": "3b0f1c2d",
   "metadata": {},
   "outputs": [
    {
     "name": "stdout",
     "output_type": "stream",
     "text": [
      "Fitting 4 folds for each of 1728 candidates, totalling 6912 fits\n",
      "Wall time: 38.3 s\n"
     ]
    }
   ],
   "source": [
    "%%time\n",
    "\n",
    "param_grid = {\n",
    "    'criterion': ['gini', 'entropy', 'log_loss'],  # Function to measure split quality\n",
    "    'splitter': ['best', 'random'],                # Strategy to choose the split at each node\n",
    "    'max_depth': [None, 10, 20, 30, 40, 50],       # Maximum depth of the tree\n",
    "    'min_samples_split': [2, 5, 10, 20],           # Minimum number of samples to split a node\n",
    "    'min_samples_leaf': [1, 2, 4, 10],             # Minimum number of samples to be at a leaf node\n",
    "    'max_features': ['sqrt', 'log2', None]         # Number of features to consider for the best split\n",
    "}\n",
    "\n",
    "\n",
    "dtc = DecisionTreeClassifier(random_state=0)\n",
    "\n",
    "clf = GridSearchCV(dtc, param_grid, scoring=\"f1_macro\", verbose=1, cv=4)\n",
    "\n",
    "clf.fit(X_train, y_train)\n",
    "\n",
    "best_model = clf.best_estimator_\n",
    "best_model.fit(X_train, y_train)\n",
    "\n",
    "y_true, y_pred = y_test, best_model.predict(X_test)"
   ]
  },
  {
   "cell_type": "code",
   "execution_count": 259,
   "id": "e446698a",
   "metadata": {},
   "outputs": [
    {
     "data": {
      "text/html": [
       "<div>\n",
       "<style scoped>\n",
       "    .dataframe tbody tr th:only-of-type {\n",
       "        vertical-align: middle;\n",
       "    }\n",
       "\n",
       "    .dataframe tbody tr th {\n",
       "        vertical-align: top;\n",
       "    }\n",
       "\n",
       "    .dataframe thead th {\n",
       "        text-align: right;\n",
       "    }\n",
       "</style>\n",
       "<table border=\"1\" class=\"dataframe\">\n",
       "  <thead>\n",
       "    <tr style=\"text-align: right;\">\n",
       "      <th></th>\n",
       "      <th>accuracy</th>\n",
       "      <th>F1</th>\n",
       "      <th>TN</th>\n",
       "      <th>FP</th>\n",
       "      <th>FN</th>\n",
       "      <th>TP</th>\n",
       "      <th>Specificity</th>\n",
       "      <th>Sensitivity_Recall</th>\n",
       "      <th>FPR</th>\n",
       "      <th>FDR</th>\n",
       "      <th>Precision</th>\n",
       "    </tr>\n",
       "  </thead>\n",
       "  <tbody>\n",
       "    <tr>\n",
       "      <th>LazyFCA (my tresholds)</th>\n",
       "      <td>0.720</td>\n",
       "      <td>0.779528</td>\n",
       "      <td>45.0</td>\n",
       "      <td>55.0</td>\n",
       "      <td>1.0</td>\n",
       "      <td>99.0</td>\n",
       "      <td>0.45</td>\n",
       "      <td>0.99</td>\n",
       "      <td>0.55</td>\n",
       "      <td>0.357143</td>\n",
       "      <td>0.642857</td>\n",
       "    </tr>\n",
       "    <tr>\n",
       "      <th>DTC (my tresholds)</th>\n",
       "      <td>0.825</td>\n",
       "      <td>0.832536</td>\n",
       "      <td>78.0</td>\n",
       "      <td>22.0</td>\n",
       "      <td>13.0</td>\n",
       "      <td>87.0</td>\n",
       "      <td>0.78</td>\n",
       "      <td>0.87</td>\n",
       "      <td>0.22</td>\n",
       "      <td>0.201835</td>\n",
       "      <td>0.798165</td>\n",
       "    </tr>\n",
       "    <tr>\n",
       "      <th>DTC numerical attributes</th>\n",
       "      <td>0.870</td>\n",
       "      <td>0.875000</td>\n",
       "      <td>83.0</td>\n",
       "      <td>17.0</td>\n",
       "      <td>9.0</td>\n",
       "      <td>91.0</td>\n",
       "      <td>0.83</td>\n",
       "      <td>0.91</td>\n",
       "      <td>0.17</td>\n",
       "      <td>0.157407</td>\n",
       "      <td>0.842593</td>\n",
       "    </tr>\n",
       "  </tbody>\n",
       "</table>\n",
       "</div>"
      ],
      "text/plain": [
       "                          accuracy        F1    TN    FP    FN    TP  \\\n",
       "LazyFCA (my tresholds)       0.720  0.779528  45.0  55.0   1.0  99.0   \n",
       "DTC (my tresholds)           0.825  0.832536  78.0  22.0  13.0  87.0   \n",
       "DTC numerical attributes     0.870  0.875000  83.0  17.0   9.0  91.0   \n",
       "\n",
       "                          Specificity  Sensitivity_Recall   FPR       FDR  \\\n",
       "LazyFCA (my tresholds)           0.45                0.99  0.55  0.357143   \n",
       "DTC (my tresholds)               0.78                0.87  0.22  0.201835   \n",
       "DTC numerical attributes         0.83                0.91  0.17  0.157407   \n",
       "\n",
       "                          Precision  \n",
       "LazyFCA (my tresholds)     0.642857  \n",
       "DTC (my tresholds)         0.798165  \n",
       "DTC numerical attributes   0.842593  "
      ]
     },
     "execution_count": 259,
     "metadata": {},
     "output_type": "execute_result"
    }
   ],
   "source": [
    "metric_df = metric_keeper('DTC numerical attributes', y_test, y_pred, metric_df)\n",
    "metric_df"
   ]
  },
  {
   "cell_type": "markdown",
   "id": "212d2009",
   "metadata": {},
   "source": [
    "## Treshold extraction from tree"
   ]
  },
  {
   "cell_type": "markdown",
   "id": "7d64983d",
   "metadata": {},
   "source": [
    "Then we need to extract all features from DCT. The DCT graph can be seen below "
   ]
  },
  {
   "cell_type": "code",
   "execution_count": 260,
   "id": "fd59d3be",
   "metadata": {},
   "outputs": [
    {
     "data": {
      "image/png": "[encoded data removed]",
      "text/plain": [
       "<Figure size 2160x648 with 1 Axes>"
      ]
     },
     "metadata": {
      "needs_background": "light"
     },
     "output_type": "display_data"
    }
   ],
   "source": [
    "from sklearn.tree import DecisionTreeClassifier\n",
    "from sklearn.tree import plot_tree\n",
    "\n",
    "\n",
    "nrows, ncols = 1, 1\n",
    "\n",
    "fig, ax = plt.subplots(nrows = nrows, ncols = ncols, figsize=(30, 9))\n",
    "\n",
    "plot_tree(best_model, ax=ax, feature_names=X_train.columns, max_depth=3, label='none', fontsize=12)\n",
    "plt.show()"
   ]
  },
  {
   "cell_type": "markdown",
   "id": "558ba4c6",
   "metadata": {},
   "source": [
    "To extract needed fetures from DCT I used code from stackoverflow [[1]](https://stackoverflow.com/questions/20224526/how-to-extract-the-decision-rules-from-scikit-learn-decision-tree). I've changed it to my needs"
   ]
  },
  {
   "cell_type": "code",
   "execution_count": 339,
   "id": "e155fefd",
   "metadata": {},
   "outputs": [],
   "source": [
    "from sklearn.tree import _tree\n",
    "\n",
    "def tree_to_code(tree, feature_names):\n",
    "    '''\n",
    "        returns repeating string containing in format:\n",
    "        {depth};{name};{threshold};{impurity_metric};\n",
    "    '''\n",
    "    tree_ = tree.tree_\n",
    "    feature_name = [\n",
    "        feature_names[i] if i != _tree.TREE_UNDEFINED else \"undefined!\"\n",
    "        for i in tree_.feature\n",
    "    ]\n",
    "    \n",
    "    def recurse(node, depth):\n",
    "        if tree_.feature[node] != _tree.TREE_UNDEFINED:\n",
    "            name = feature_name[node]\n",
    "            threshold = tree_.threshold[node]\n",
    "            impurity = tree_.impurity[node]\n",
    "            text =\"{};{};{};\".format(depth, name, threshold) \n",
    "            \n",
    "            text_child1, impurity_child1 = recurse(tree_.children_left[node], depth + 1)\n",
    "            text_child2, impurity_child2 = recurse(tree_.children_right[node], depth + 1)\n",
    "            \n",
    "            text+='{};'.format((impurity-min(impurity_child1, impurity_child2))/impurity)\n",
    "            text+=text_child1\n",
    "            text+=text_child2\n",
    "            \n",
    "            \n",
    "            return text, impurity\n",
    "        \n",
    "        \n",
    "        return '', tree_.impurity[node]\n",
    "            \n",
    "            \n",
    "    text, _ = recurse(0, 1)\n",
    "    return text"
   ]
  },
  {
   "cell_type": "code",
   "execution_count": 340,
   "id": "88f6cdbb",
   "metadata": {},
   "outputs": [
    {
     "data": {
      "text/plain": [
       "'1;Glucose;123.5;0.20031920251699042;2;Age;28.5;0.4'"
      ]
     },
     "execution_count": 340,
     "metadata": {},
     "output_type": "execute_result"
    }
   ],
   "source": [
    "a = tree_to_code(best_model, feature_names=X_train.columns)\n",
    "a[:50]"
   ]
  },
  {
   "cell_type": "markdown",
   "id": "0eda5c76",
   "metadata": {},
   "source": [
    "Parcing features into dicts:"
   ]
  },
  {
   "cell_type": "code",
   "execution_count": 346,
   "id": "94f2aba9",
   "metadata": {},
   "outputs": [
    {
     "name": "stdout",
     "output_type": "stream",
     "text": [
      "456 114 114 114\n"
     ]
    },
    {
     "data": {
      "text/plain": [
       "[(27.5, 1.0, 6),\n",
       " (51.5, 1.0, 6),\n",
       " (53.5, 1.0, 7),\n",
       " (27.5, 1.0, 8),\n",
       " (52.5, 1.0, 8),\n",
       " (44.0, 1.0, 8),\n",
       " (63.5, 1.0, 9),\n",
       " (42.5, 1.0, 11),\n",
       " (28.5, 0.6576821938392187, 6),\n",
       " (26.0, 0.6088068203896699, 3),\n",
       " (29.5, 0.5925591079696446, 7),\n",
       " (44.0, 0.5416612593755452, 6),\n",
       " (28.5, 0.4809468195660444, 2),\n",
       " (41.0, 0.35897435897435903, 8)]"
      ]
     },
     "execution_count": 346,
     "metadata": {},
     "output_type": "execute_result"
    }
   ],
   "source": [
    "def treshold_extraction(text):\n",
    "    text_arr = text.split(';')[:-1]\n",
    "    depth = text_arr[::4]\n",
    "    columns = text_arr[1::4]\n",
    "    values = text_arr[2::4]\n",
    "    impurities = text_arr[3::4]\n",
    "    \n",
    "    print(len(text_arr), len(columns), len(values), len(impurities))\n",
    "    \n",
    "    treshold_dict = dict()\n",
    "    \n",
    "    for i, col in enumerate(columns):\n",
    "        treshold_dict.setdefault(col, []).append((float(values[i]), float(impurities[i]), int(depth[i])))\n",
    "        \n",
    "    for i in treshold_dict:\n",
    "        treshold_dict[i] = list(sorted(treshold_dict[i], key=lambda x: -x[-2]*1000+x[-1]))\n",
    "    \n",
    "    return treshold_dict\n",
    "\n",
    "treshold_dict = treshold_extraction(a)\n",
    "treshold_dict['Age']"
   ]
  },
  {
   "cell_type": "code",
   "execution_count": 342,
   "id": "01930c4b",
   "metadata": {},
   "outputs": [
    {
     "data": {
      "text/plain": [
       "array([45.39999962, 33.        , 34.04999924, 36.60000038, 34.64999962,\n",
       "       32.5       ,  9.64999962, 33.5       , 24.35000038, 27.69999981,\n",
       "       33.        , 34.45000076, 39.64999962, 34.85000038, 30.09999943,\n",
       "       33.89999962, 32.45000076, 48.5       , 31.19999981, 28.80000019,\n",
       "       27.84999943])"
      ]
     },
     "execution_count": 342,
     "metadata": {},
     "output_type": "execute_result"
    }
   ],
   "source": [
    "all_tresholds = {key: np.array(value)[:, 0] for key, value in treshold_dict.items()}\n",
    "all_tresholds['BMI']"
   ]
  },
  {
   "cell_type": "markdown",
   "id": "39c71328",
   "metadata": {},
   "source": [
    "## 3 random tresholds from the list"
   ]
  },
  {
   "cell_type": "markdown",
   "id": "dd0b0587",
   "metadata": {},
   "source": [
    "First simple idea of how the resulting data can be used: choose 3 random tresholds of every attribute. Pros: it is simople, cons: it probably won't show high effectivness  "
   ]
  },
  {
   "cell_type": "code",
   "execution_count": 335,
   "id": "b0975c2f",
   "metadata": {},
   "outputs": [],
   "source": [
    "np.random.seed(1)"
   ]
  },
  {
   "cell_type": "code",
   "execution_count": 336,
   "id": "c6c4d945",
   "metadata": {},
   "outputs": [
    {
     "data": {
      "text/plain": [
       "((800, 18), (200, 18))"
      ]
     },
     "execution_count": 336,
     "metadata": {},
     "output_type": "execute_result"
    }
   ],
   "source": [
    "X_train_scaled = pd.DataFrame(index = X_train.index)\n",
    "X_test_scaled = pd.DataFrame(index = X_test.index)\n",
    "\n",
    "scaler_dict = {}\n",
    "\n",
    "columns = ['Insulin', 'DiabetesPedigreeFunction', 'Pregnancies', 'Age', 'BMI']\n",
    "\n",
    "for column in X_train:\n",
    "    scaler_dict[column] = OrdinalScaler(column)\n",
    "    if column in all_tresholds.keys():\n",
    "        scaler_dict[column].fit(X_train, np.random.choice(all_tresholds[column], size=3, replace=False))\n",
    "    else:\n",
    "        scaler_dict[column].fit(X_train, [])\n",
    "    scaled_data = scaler_dict[column].scale(X_train)\n",
    "    scaled_data_test = scaler_dict[column].scale(X_test)\n",
    "    X_train_scaled = pd.concat([X_train_scaled, scaled_data], axis=1)\n",
    "    X_test_scaled = pd.concat([X_test_scaled, scaled_data_test], axis=1)\n",
    "    \n",
    "    \n",
    "X_train_scaled.shape, X_test_scaled.shape"
   ]
  },
  {
   "cell_type": "code",
   "execution_count": 337,
   "id": "b623ab86",
   "metadata": {},
   "outputs": [],
   "source": [
    "classifier = LazyClassifierFCA()\n",
    "classifier.fit(X_train_scaled, y_train)"
   ]
  },
  {
   "cell_type": "code",
   "execution_count": 338,
   "id": "b05d87a7",
   "metadata": {},
   "outputs": [
    {
     "name": "stderr",
     "output_type": "stream",
     "text": [
      "200it [01:59,  1.68it/s]\n"
     ]
    }
   ],
   "source": [
    "y_lazy_pred = classifier.predict(X_test_scaled)"
   ]
  },
  {
   "cell_type": "code",
   "execution_count": 277,
   "id": "6b7f7866",
   "metadata": {},
   "outputs": [
    {
     "data": {
      "text/html": [
       "<div>\n",
       "<style scoped>\n",
       "    .dataframe tbody tr th:only-of-type {\n",
       "        vertical-align: middle;\n",
       "    }\n",
       "\n",
       "    .dataframe tbody tr th {\n",
       "        vertical-align: top;\n",
       "    }\n",
       "\n",
       "    .dataframe thead th {\n",
       "        text-align: right;\n",
       "    }\n",
       "</style>\n",
       "<table border=\"1\" class=\"dataframe\">\n",
       "  <thead>\n",
       "    <tr style=\"text-align: right;\">\n",
       "      <th></th>\n",
       "      <th>accuracy</th>\n",
       "      <th>F1</th>\n",
       "      <th>TN</th>\n",
       "      <th>FP</th>\n",
       "      <th>FN</th>\n",
       "      <th>TP</th>\n",
       "      <th>Specificity</th>\n",
       "      <th>Sensitivity_Recall</th>\n",
       "      <th>FPR</th>\n",
       "      <th>FDR</th>\n",
       "      <th>Precision</th>\n",
       "    </tr>\n",
       "  </thead>\n",
       "  <tbody>\n",
       "    <tr>\n",
       "      <th>LazyFCA (my tresholds)</th>\n",
       "      <td>0.720</td>\n",
       "      <td>0.779528</td>\n",
       "      <td>45.0</td>\n",
       "      <td>55.0</td>\n",
       "      <td>1.0</td>\n",
       "      <td>99.0</td>\n",
       "      <td>0.45</td>\n",
       "      <td>0.99</td>\n",
       "      <td>0.55</td>\n",
       "      <td>0.357143</td>\n",
       "      <td>0.642857</td>\n",
       "    </tr>\n",
       "    <tr>\n",
       "      <th>DTC (my tresholds)</th>\n",
       "      <td>0.825</td>\n",
       "      <td>0.832536</td>\n",
       "      <td>78.0</td>\n",
       "      <td>22.0</td>\n",
       "      <td>13.0</td>\n",
       "      <td>87.0</td>\n",
       "      <td>0.78</td>\n",
       "      <td>0.87</td>\n",
       "      <td>0.22</td>\n",
       "      <td>0.201835</td>\n",
       "      <td>0.798165</td>\n",
       "    </tr>\n",
       "    <tr>\n",
       "      <th>DTC numerical attributes</th>\n",
       "      <td>0.870</td>\n",
       "      <td>0.875000</td>\n",
       "      <td>83.0</td>\n",
       "      <td>17.0</td>\n",
       "      <td>9.0</td>\n",
       "      <td>91.0</td>\n",
       "      <td>0.83</td>\n",
       "      <td>0.91</td>\n",
       "      <td>0.17</td>\n",
       "      <td>0.157407</td>\n",
       "      <td>0.842593</td>\n",
       "    </tr>\n",
       "    <tr>\n",
       "      <th>Lazy+DCT att. 3 random</th>\n",
       "      <td>0.500</td>\n",
       "      <td>0.666667</td>\n",
       "      <td>0.0</td>\n",
       "      <td>100.0</td>\n",
       "      <td>0.0</td>\n",
       "      <td>100.0</td>\n",
       "      <td>0.00</td>\n",
       "      <td>1.00</td>\n",
       "      <td>1.00</td>\n",
       "      <td>0.500000</td>\n",
       "      <td>0.500000</td>\n",
       "    </tr>\n",
       "  </tbody>\n",
       "</table>\n",
       "</div>"
      ],
      "text/plain": [
       "                          accuracy        F1    TN     FP    FN     TP  \\\n",
       "LazyFCA (my tresholds)       0.720  0.779528  45.0   55.0   1.0   99.0   \n",
       "DTC (my tresholds)           0.825  0.832536  78.0   22.0  13.0   87.0   \n",
       "DTC numerical attributes     0.870  0.875000  83.0   17.0   9.0   91.0   \n",
       "Lazy+DCT att. 3 random       0.500  0.666667   0.0  100.0   0.0  100.0   \n",
       "\n",
       "                          Specificity  Sensitivity_Recall   FPR       FDR  \\\n",
       "LazyFCA (my tresholds)           0.45                0.99  0.55  0.357143   \n",
       "DTC (my tresholds)               0.78                0.87  0.22  0.201835   \n",
       "DTC numerical attributes         0.83                0.91  0.17  0.157407   \n",
       "Lazy+DCT att. 3 random           0.00                1.00  1.00  0.500000   \n",
       "\n",
       "                          Precision  \n",
       "LazyFCA (my tresholds)     0.642857  \n",
       "DTC (my tresholds)         0.798165  \n",
       "DTC numerical attributes   0.842593  \n",
       "Lazy+DCT att. 3 random     0.500000  "
      ]
     },
     "execution_count": 277,
     "metadata": {},
     "output_type": "execute_result"
    }
   ],
   "source": [
    "metric_df = metric_keeper('Lazy+DCT att. 3 random', y_test, y_lazy_pred, metric_df)\n",
    "metric_df"
   ]
  },
  {
   "cell_type": "markdown",
   "id": "e0764bb3",
   "metadata": {},
   "source": [
    "And it showed one of the worst results..."
   ]
  },
  {
   "cell_type": "markdown",
   "id": "aad36c30",
   "metadata": {},
   "source": [
    "## 3 sparcly located tresholds"
   ]
  },
  {
   "cell_type": "markdown",
   "id": "7a43edeb",
   "metadata": {},
   "source": [
    "Second simple idea: sort tresholds from DCT and chose 3 that are the furthest from each other. If you look closely - many tresholds are located very tightly, the main idea - tresholds in small area don't boost metrics"
   ]
  },
  {
   "cell_type": "code",
   "execution_count": 278,
   "id": "d97d85df",
   "metadata": {},
   "outputs": [
    {
     "data": {
      "text/plain": [
       "{'Glucose': [22.0, 121.0, 137.0, 160.5],\n",
       " 'Age': [26.0, 28.5, 44.0, 53.5],\n",
       " 'BMI': [9.649999618530273, 32.45000076293945, 34.45000076293945],\n",
       " 'DiabetesPedigreeFunction': [0.13999999314546585,\n",
       "  0.27650000154972076,\n",
       "  0.6755000054836273],\n",
       " 'Pregnancies': [0.5, 2.5, 6.5],\n",
       " 'Insulin': [11.0, 39.0, 150.5, 327.5]}"
      ]
     },
     "execution_count": 278,
     "metadata": {},
     "output_type": "execute_result"
    }
   ],
   "source": [
    "ordered_by_value = {key: sorted(value, key=lambda x:-x[0]) for key, value in treshold_dict.items()}\n",
    "selected_tresholds = {key: sorted(value)[::len(value)//3] for key, value in all_tresholds.items()}\n",
    "selected_tresholds"
   ]
  },
  {
   "cell_type": "code",
   "execution_count": 279,
   "id": "a7f59336",
   "metadata": {},
   "outputs": [
    {
     "data": {
      "text/plain": [
       "((800, 21), (200, 21))"
      ]
     },
     "execution_count": 279,
     "metadata": {},
     "output_type": "execute_result"
    }
   ],
   "source": [
    "X_train_scaled = pd.DataFrame(index = X_train.index)\n",
    "X_test_scaled = pd.DataFrame(index = X_test.index)\n",
    "\n",
    "scaler_dict = {}\n",
    "\n",
    "columns = ['Insulin', 'DiabetesPedigreeFunction', 'Pregnancies', 'Age', 'BMI']\n",
    "\n",
    "for column in X_train:\n",
    "    scaler_dict[column] = OrdinalScaler(column)\n",
    "    if column in selected_tresholds.keys():\n",
    "        scaler_dict[column].fit(X_train, selected_tresholds[column])\n",
    "    else:\n",
    "        scaler_dict[column].fit(X_train, [])\n",
    "    scaled_data = scaler_dict[column].scale(X_train)\n",
    "    scaled_data_test = scaler_dict[column].scale(X_test)\n",
    "    X_train_scaled = pd.concat([X_train_scaled, scaled_data], axis=1)\n",
    "    X_test_scaled = pd.concat([X_test_scaled, scaled_data_test], axis=1)\n",
    "    \n",
    "X_train_scaled.shape, X_test_scaled.shape"
   ]
  },
  {
   "cell_type": "code",
   "execution_count": 280,
   "id": "6a1b54e3",
   "metadata": {},
   "outputs": [],
   "source": [
    "classifier = LazyClassifierFCA()\n",
    "classifier.fit(X_train_scaled, y_train)"
   ]
  },
  {
   "cell_type": "code",
   "execution_count": 281,
   "id": "1b92696e",
   "metadata": {},
   "outputs": [
    {
     "name": "stderr",
     "output_type": "stream",
     "text": [
      "200it [02:00,  1.65it/s]\n"
     ]
    }
   ],
   "source": [
    "y_lazy_pred = classifier.predict(X_test_scaled)"
   ]
  },
  {
   "cell_type": "code",
   "execution_count": 282,
   "id": "8a48444d",
   "metadata": {},
   "outputs": [
    {
     "data": {
      "text/html": [
       "<div>\n",
       "<style scoped>\n",
       "    .dataframe tbody tr th:only-of-type {\n",
       "        vertical-align: middle;\n",
       "    }\n",
       "\n",
       "    .dataframe tbody tr th {\n",
       "        vertical-align: top;\n",
       "    }\n",
       "\n",
       "    .dataframe thead th {\n",
       "        text-align: right;\n",
       "    }\n",
       "</style>\n",
       "<table border=\"1\" class=\"dataframe\">\n",
       "  <thead>\n",
       "    <tr style=\"text-align: right;\">\n",
       "      <th></th>\n",
       "      <th>accuracy</th>\n",
       "      <th>F1</th>\n",
       "      <th>TN</th>\n",
       "      <th>FP</th>\n",
       "      <th>FN</th>\n",
       "      <th>TP</th>\n",
       "      <th>Specificity</th>\n",
       "      <th>Sensitivity_Recall</th>\n",
       "      <th>FPR</th>\n",
       "      <th>FDR</th>\n",
       "      <th>Precision</th>\n",
       "    </tr>\n",
       "  </thead>\n",
       "  <tbody>\n",
       "    <tr>\n",
       "      <th>LazyFCA (my tresholds)</th>\n",
       "      <td>0.720</td>\n",
       "      <td>0.779528</td>\n",
       "      <td>45.0</td>\n",
       "      <td>55.0</td>\n",
       "      <td>1.0</td>\n",
       "      <td>99.0</td>\n",
       "      <td>0.45</td>\n",
       "      <td>0.99</td>\n",
       "      <td>0.55</td>\n",
       "      <td>0.357143</td>\n",
       "      <td>0.642857</td>\n",
       "    </tr>\n",
       "    <tr>\n",
       "      <th>DTC (my tresholds)</th>\n",
       "      <td>0.825</td>\n",
       "      <td>0.832536</td>\n",
       "      <td>78.0</td>\n",
       "      <td>22.0</td>\n",
       "      <td>13.0</td>\n",
       "      <td>87.0</td>\n",
       "      <td>0.78</td>\n",
       "      <td>0.87</td>\n",
       "      <td>0.22</td>\n",
       "      <td>0.201835</td>\n",
       "      <td>0.798165</td>\n",
       "    </tr>\n",
       "    <tr>\n",
       "      <th>DTC numerical attributes</th>\n",
       "      <td>0.870</td>\n",
       "      <td>0.875000</td>\n",
       "      <td>83.0</td>\n",
       "      <td>17.0</td>\n",
       "      <td>9.0</td>\n",
       "      <td>91.0</td>\n",
       "      <td>0.83</td>\n",
       "      <td>0.91</td>\n",
       "      <td>0.17</td>\n",
       "      <td>0.157407</td>\n",
       "      <td>0.842593</td>\n",
       "    </tr>\n",
       "    <tr>\n",
       "      <th>Lazy+DCT att. 3 random</th>\n",
       "      <td>0.500</td>\n",
       "      <td>0.666667</td>\n",
       "      <td>0.0</td>\n",
       "      <td>100.0</td>\n",
       "      <td>0.0</td>\n",
       "      <td>100.0</td>\n",
       "      <td>0.00</td>\n",
       "      <td>1.00</td>\n",
       "      <td>1.00</td>\n",
       "      <td>0.500000</td>\n",
       "      <td>0.500000</td>\n",
       "    </tr>\n",
       "    <tr>\n",
       "      <th>Lazy+DCT att. 3 sparcly</th>\n",
       "      <td>0.535</td>\n",
       "      <td>0.682594</td>\n",
       "      <td>7.0</td>\n",
       "      <td>93.0</td>\n",
       "      <td>0.0</td>\n",
       "      <td>100.0</td>\n",
       "      <td>0.07</td>\n",
       "      <td>1.00</td>\n",
       "      <td>0.93</td>\n",
       "      <td>0.481865</td>\n",
       "      <td>0.518135</td>\n",
       "    </tr>\n",
       "  </tbody>\n",
       "</table>\n",
       "</div>"
      ],
      "text/plain": [
       "                          accuracy        F1    TN     FP    FN     TP  \\\n",
       "LazyFCA (my tresholds)       0.720  0.779528  45.0   55.0   1.0   99.0   \n",
       "DTC (my tresholds)           0.825  0.832536  78.0   22.0  13.0   87.0   \n",
       "DTC numerical attributes     0.870  0.875000  83.0   17.0   9.0   91.0   \n",
       "Lazy+DCT att. 3 random       0.500  0.666667   0.0  100.0   0.0  100.0   \n",
       "Lazy+DCT att. 3 sparcly      0.535  0.682594   7.0   93.0   0.0  100.0   \n",
       "\n",
       "                          Specificity  Sensitivity_Recall   FPR       FDR  \\\n",
       "LazyFCA (my tresholds)           0.45                0.99  0.55  0.357143   \n",
       "DTC (my tresholds)               0.78                0.87  0.22  0.201835   \n",
       "DTC numerical attributes         0.83                0.91  0.17  0.157407   \n",
       "Lazy+DCT att. 3 random           0.00                1.00  1.00  0.500000   \n",
       "Lazy+DCT att. 3 sparcly          0.07                1.00  0.93  0.481865   \n",
       "\n",
       "                          Precision  \n",
       "LazyFCA (my tresholds)     0.642857  \n",
       "DTC (my tresholds)         0.798165  \n",
       "DTC numerical attributes   0.842593  \n",
       "Lazy+DCT att. 3 random     0.500000  \n",
       "Lazy+DCT att. 3 sparcly    0.518135  "
      ]
     },
     "execution_count": 282,
     "metadata": {},
     "output_type": "execute_result"
    }
   ],
   "source": [
    "metric_df = metric_keeper('Lazy+DCT att. 3 sparcly', y_test, y_lazy_pred, metric_df)\n",
    "metric_df"
   ]
  },
  {
   "cell_type": "markdown",
   "id": "d8a1601e",
   "metadata": {},
   "source": [
    "Better, but still worse than my tresholds"
   ]
  },
  {
   "cell_type": "markdown",
   "id": "be67d568",
   "metadata": {},
   "source": [
    "## 3 Most important tresholds"
   ]
  },
  {
   "cell_type": "markdown",
   "id": "21e1b07b",
   "metadata": {},
   "source": [
    "Third idea: DTCs use impurity metrics as measure of how good the division in the nodes are. I propose (and maybe I am terribly wrong in my assuption, I'm sorry) to use metric:"
   ]
  },
  {
   "cell_type": "markdown",
   "id": "87760a53",
   "metadata": {},
   "source": [
    "$metric = \\frac{current\\_impurity - min(left\\_child\\_impurity, right\\_child\\_impurity)}{current\\_impurity}$"
   ]
  },
  {
   "cell_type": "markdown",
   "id": "ebd9fc7f",
   "metadata": {},
   "source": [
    "As a measure of importance of currecnt treshold. I will explain why I used this metric in my final presentation, if it will give some good results. By this measure we can sort tresholds and choose the most important"
   ]
  },
  {
   "cell_type": "code",
   "execution_count": 356,
   "id": "9039f277",
   "metadata": {},
   "outputs": [
    {
     "data": {
      "text/plain": [
       "{'Glucose': array([125.5, 127.5, 123.5]),\n",
       " 'Age': array([44. , 28.5, 41. ]),\n",
       " 'BMI': array([31.19999981, 28.80000019, 27.84999943]),\n",
       " 'DiabetesPedigreeFunction': array([0.241     , 0.31199999, 0.2205    ]),\n",
       " 'Pregnancies': array([ 2.5,  9.5, 10.5]),\n",
       " 'Insulin': array([ 77., 199., 289.])}"
      ]
     },
     "execution_count": 356,
     "metadata": {},
     "output_type": "execute_result"
    }
   ],
   "source": [
    "ordered_by_impurity = {key: np.array(value)[-3:, 0] for key, value in treshold_dict.items()}\n",
    "ordered_by_impurity"
   ]
  },
  {
   "cell_type": "code",
   "execution_count": 357,
   "id": "c723c3c8",
   "metadata": {},
   "outputs": [
    {
     "data": {
      "text/plain": [
       "((800, 18), (200, 18))"
      ]
     },
     "execution_count": 357,
     "metadata": {},
     "output_type": "execute_result"
    }
   ],
   "source": [
    "X_train_scaled = pd.DataFrame(index = X_train.index)\n",
    "X_test_scaled = pd.DataFrame(index = X_test.index)\n",
    "\n",
    "scaler_dict = {}\n",
    "\n",
    "columns = ['Insulin', 'DiabetesPedigreeFunction', 'Pregnancies', 'Age', 'BMI']\n",
    "\n",
    "for column in X_train:\n",
    "    scaler_dict[column] = OrdinalScaler(column)\n",
    "    if column in ordered_by_impurity.keys():\n",
    "        scaler_dict[column].fit(X_train, ordered_by_impurity[column])\n",
    "    else:\n",
    "        scaler_dict[column].fit(X_train, [])\n",
    "    scaled_data = scaler_dict[column].scale(X_train)\n",
    "    scaled_data_test = scaler_dict[column].scale(X_test)\n",
    "    X_train_scaled = pd.concat([X_train_scaled, scaled_data], axis=1)\n",
    "    X_test_scaled = pd.concat([X_test_scaled, scaled_data_test], axis=1)\n",
    "    \n",
    "X_train_scaled.shape, X_test_scaled.shape"
   ]
  },
  {
   "cell_type": "code",
   "execution_count": 352,
   "id": "48847246",
   "metadata": {},
   "outputs": [],
   "source": [
    "classifier = LazyClassifierFCA()\n",
    "classifier.fit(X_train_scaled, y_train)"
   ]
  },
  {
   "cell_type": "code",
   "execution_count": 353,
   "id": "f59dab61",
   "metadata": {},
   "outputs": [
    {
     "name": "stderr",
     "output_type": "stream",
     "text": [
      "200it [02:01,  1.65it/s]\n"
     ]
    }
   ],
   "source": [
    "y_lazy_pred = classifier.predict(X_test_scaled)"
   ]
  },
  {
   "cell_type": "code",
   "execution_count": 361,
   "id": "12e9c7ed",
   "metadata": {},
   "outputs": [
    {
     "data": {
      "text/html": [
       "<div>\n",
       "<style scoped>\n",
       "    .dataframe tbody tr th:only-of-type {\n",
       "        vertical-align: middle;\n",
       "    }\n",
       "\n",
       "    .dataframe tbody tr th {\n",
       "        vertical-align: top;\n",
       "    }\n",
       "\n",
       "    .dataframe thead th {\n",
       "        text-align: right;\n",
       "    }\n",
       "</style>\n",
       "<table border=\"1\" class=\"dataframe\">\n",
       "  <thead>\n",
       "    <tr style=\"text-align: right;\">\n",
       "      <th></th>\n",
       "      <th>accuracy</th>\n",
       "      <th>F1</th>\n",
       "      <th>TN</th>\n",
       "      <th>FP</th>\n",
       "      <th>FN</th>\n",
       "      <th>TP</th>\n",
       "      <th>Specificity</th>\n",
       "      <th>Sensitivity_Recall</th>\n",
       "      <th>FPR</th>\n",
       "      <th>FDR</th>\n",
       "      <th>Precision</th>\n",
       "    </tr>\n",
       "  </thead>\n",
       "  <tbody>\n",
       "    <tr>\n",
       "      <th>LazyFCA (my tresholds)</th>\n",
       "      <td>0.635</td>\n",
       "      <td>0.730627</td>\n",
       "      <td>28.0</td>\n",
       "      <td>72.0</td>\n",
       "      <td>1.0</td>\n",
       "      <td>99.0</td>\n",
       "      <td>0.28</td>\n",
       "      <td>0.99</td>\n",
       "      <td>0.72</td>\n",
       "      <td>0.421053</td>\n",
       "      <td>0.578947</td>\n",
       "    </tr>\n",
       "    <tr>\n",
       "      <th>DTC (my tresholds)</th>\n",
       "      <td>0.825</td>\n",
       "      <td>0.832536</td>\n",
       "      <td>78.0</td>\n",
       "      <td>22.0</td>\n",
       "      <td>13.0</td>\n",
       "      <td>87.0</td>\n",
       "      <td>0.78</td>\n",
       "      <td>0.87</td>\n",
       "      <td>0.22</td>\n",
       "      <td>0.201835</td>\n",
       "      <td>0.798165</td>\n",
       "    </tr>\n",
       "    <tr>\n",
       "      <th>DTC numerical attributes</th>\n",
       "      <td>0.870</td>\n",
       "      <td>0.875000</td>\n",
       "      <td>83.0</td>\n",
       "      <td>17.0</td>\n",
       "      <td>9.0</td>\n",
       "      <td>91.0</td>\n",
       "      <td>0.83</td>\n",
       "      <td>0.91</td>\n",
       "      <td>0.17</td>\n",
       "      <td>0.157407</td>\n",
       "      <td>0.842593</td>\n",
       "    </tr>\n",
       "    <tr>\n",
       "      <th>Lazy+DCT att. 3 random</th>\n",
       "      <td>0.500</td>\n",
       "      <td>0.666667</td>\n",
       "      <td>0.0</td>\n",
       "      <td>100.0</td>\n",
       "      <td>0.0</td>\n",
       "      <td>100.0</td>\n",
       "      <td>0.00</td>\n",
       "      <td>1.00</td>\n",
       "      <td>1.00</td>\n",
       "      <td>0.500000</td>\n",
       "      <td>0.500000</td>\n",
       "    </tr>\n",
       "    <tr>\n",
       "      <th>Lazy+DCT att. 3 sparcly</th>\n",
       "      <td>0.535</td>\n",
       "      <td>0.682594</td>\n",
       "      <td>7.0</td>\n",
       "      <td>93.0</td>\n",
       "      <td>0.0</td>\n",
       "      <td>100.0</td>\n",
       "      <td>0.07</td>\n",
       "      <td>1.00</td>\n",
       "      <td>0.93</td>\n",
       "      <td>0.481865</td>\n",
       "      <td>0.518135</td>\n",
       "    </tr>\n",
       "    <tr>\n",
       "      <th>Lazy+DCT att. 3 important</th>\n",
       "      <td>0.665</td>\n",
       "      <td>0.743295</td>\n",
       "      <td>36.0</td>\n",
       "      <td>64.0</td>\n",
       "      <td>3.0</td>\n",
       "      <td>97.0</td>\n",
       "      <td>0.36</td>\n",
       "      <td>0.97</td>\n",
       "      <td>0.64</td>\n",
       "      <td>0.397516</td>\n",
       "      <td>0.602484</td>\n",
       "    </tr>\n",
       "    <tr>\n",
       "      <th>Lazy+DCT att. 3 shallow</th>\n",
       "      <td>0.735</td>\n",
       "      <td>0.787149</td>\n",
       "      <td>49.0</td>\n",
       "      <td>51.0</td>\n",
       "      <td>2.0</td>\n",
       "      <td>98.0</td>\n",
       "      <td>0.49</td>\n",
       "      <td>0.98</td>\n",
       "      <td>0.51</td>\n",
       "      <td>0.342282</td>\n",
       "      <td>0.657718</td>\n",
       "    </tr>\n",
       "    <tr>\n",
       "      <th>Lazy+DCT att. 5 shallow</th>\n",
       "      <td>0.775</td>\n",
       "      <td>0.811715</td>\n",
       "      <td>58.0</td>\n",
       "      <td>42.0</td>\n",
       "      <td>3.0</td>\n",
       "      <td>97.0</td>\n",
       "      <td>0.58</td>\n",
       "      <td>0.97</td>\n",
       "      <td>0.42</td>\n",
       "      <td>0.302158</td>\n",
       "      <td>0.697842</td>\n",
       "    </tr>\n",
       "  </tbody>\n",
       "</table>\n",
       "</div>"
      ],
      "text/plain": [
       "                           accuracy        F1    TN     FP    FN     TP  \\\n",
       "LazyFCA (my tresholds)        0.635  0.730627  28.0   72.0   1.0   99.0   \n",
       "DTC (my tresholds)            0.825  0.832536  78.0   22.0  13.0   87.0   \n",
       "DTC numerical attributes      0.870  0.875000  83.0   17.0   9.0   91.0   \n",
       "Lazy+DCT att. 3 random        0.500  0.666667   0.0  100.0   0.0  100.0   \n",
       "Lazy+DCT att. 3 sparcly       0.535  0.682594   7.0   93.0   0.0  100.0   \n",
       "Lazy+DCT att. 3 important     0.665  0.743295  36.0   64.0   3.0   97.0   \n",
       "Lazy+DCT att. 3 shallow       0.735  0.787149  49.0   51.0   2.0   98.0   \n",
       "Lazy+DCT att. 5 shallow       0.775  0.811715  58.0   42.0   3.0   97.0   \n",
       "\n",
       "                           Specificity  Sensitivity_Recall   FPR       FDR  \\\n",
       "LazyFCA (my tresholds)            0.28                0.99  0.72  0.421053   \n",
       "DTC (my tresholds)                0.78                0.87  0.22  0.201835   \n",
       "DTC numerical attributes          0.83                0.91  0.17  0.157407   \n",
       "Lazy+DCT att. 3 random            0.00                1.00  1.00  0.500000   \n",
       "Lazy+DCT att. 3 sparcly           0.07                1.00  0.93  0.481865   \n",
       "Lazy+DCT att. 3 important         0.36                0.97  0.64  0.397516   \n",
       "Lazy+DCT att. 3 shallow           0.49                0.98  0.51  0.342282   \n",
       "Lazy+DCT att. 5 shallow           0.58                0.97  0.42  0.302158   \n",
       "\n",
       "                           Precision  \n",
       "LazyFCA (my tresholds)      0.578947  \n",
       "DTC (my tresholds)          0.798165  \n",
       "DTC numerical attributes    0.842593  \n",
       "Lazy+DCT att. 3 random      0.500000  \n",
       "Lazy+DCT att. 3 sparcly     0.518135  \n",
       "Lazy+DCT att. 3 important   0.602484  \n",
       "Lazy+DCT att. 3 shallow     0.657718  \n",
       "Lazy+DCT att. 5 shallow     0.697842  "
      ]
     },
     "execution_count": 361,
     "metadata": {},
     "output_type": "execute_result"
    }
   ],
   "source": [
    "metric_df = metric_keeper('Lazy+DCT att. 3 important', y_test, y_lazy_pred, metric_df)\n",
    "metric_df"
   ]
  },
  {
   "cell_type": "code",
   "execution_count": 288,
   "id": "b2489fac",
   "metadata": {},
   "outputs": [
    {
     "data": {
      "image/png": "[encoded data removed]",
      "text/plain": [
       "<Figure size 432x288 with 2 Axes>"
      ]
     },
     "metadata": {
      "needs_background": "light"
     },
     "output_type": "display_data"
    }
   ],
   "source": [
    "_ = ConfusionMatrixDisplay(confusion_matrix(y_test, y_lazy_pred)).plot()"
   ]
  },
  {
   "cell_type": "markdown",
   "id": "aace6312",
   "metadata": {},
   "source": [
    "Better! Even better than my tresholds, good sign"
   ]
  },
  {
   "cell_type": "markdown",
   "id": "86497d53",
   "metadata": {},
   "source": [
    "## 3 Ordered by depth"
   ]
  },
  {
   "cell_type": "markdown",
   "id": "f9b2762d",
   "metadata": {},
   "source": [
    "The final idea that I have - is to order tresholds by depth and choose the most shallow ones, since they probably have the most powerful divisions"
   ]
  },
  {
   "cell_type": "code",
   "execution_count": 320,
   "id": "ea1e1150",
   "metadata": {},
   "outputs": [
    {
     "data": {
      "text/plain": [
       "{'Glucose': array([153.5,  94.5, 123.5]),\n",
       " 'Age': array([44. , 26. , 28.5]),\n",
       " 'BMI': array([27.84999943, 45.39999962, 28.80000019]),\n",
       " 'DiabetesPedigreeFunction': array([0.31199999, 0.2205    , 0.66600001]),\n",
       " 'Pregnancies': array([11.5,  9.5,  2.5]),\n",
       " 'Insulin': array([327.5,  77. , 629.5])}"
      ]
     },
     "execution_count": 320,
     "metadata": {},
     "output_type": "execute_result"
    }
   ],
   "source": [
    "ordered_by_depth = {key: np.array(sorted(value, key=lambda x: -x[-1]))[-3:, 0] for key, value in treshold_dict.items()}\n",
    "ordered_by_depth"
   ]
  },
  {
   "cell_type": "code",
   "execution_count": 321,
   "id": "e8b5745e",
   "metadata": {},
   "outputs": [
    {
     "data": {
      "text/plain": [
       "((800, 18), (200, 18))"
      ]
     },
     "execution_count": 321,
     "metadata": {},
     "output_type": "execute_result"
    }
   ],
   "source": [
    "X_train_scaled = pd.DataFrame(index = X_train.index)\n",
    "X_test_scaled = pd.DataFrame(index = X_test.index)\n",
    "\n",
    "scaler_dict = {}\n",
    "\n",
    "columns = ['Insulin', 'DiabetesPedigreeFunction', 'Pregnancies', 'Age', 'BMI']\n",
    "\n",
    "for column in X_train:\n",
    "    scaler_dict[column] = OrdinalScaler(column)\n",
    "    if column in ordered_by_impurity.keys():\n",
    "        scaler_dict[column].fit(X_train, ordered_by_depth[column])\n",
    "    else:\n",
    "        scaler_dict[column].fit(X_train, [])\n",
    "    scaled_data = scaler_dict[column].scale(X_train)\n",
    "    scaled_data_test = scaler_dict[column].scale(X_test)\n",
    "    X_train_scaled = pd.concat([X_train_scaled, scaled_data], axis=1)\n",
    "    X_test_scaled = pd.concat([X_test_scaled, scaled_data_test], axis=1)\n",
    "    \n",
    "X_train_scaled.shape, X_test_scaled.shape"
   ]
  },
  {
   "cell_type": "code",
   "execution_count": 322,
   "id": "99502320",
   "metadata": {},
   "outputs": [],
   "source": [
    "classifier = LazyClassifierFCA()\n",
    "classifier.fit(X_train_scaled, y_train)"
   ]
  },
  {
   "cell_type": "code",
   "execution_count": 323,
   "id": "377402ee",
   "metadata": {},
   "outputs": [
    {
     "name": "stderr",
     "output_type": "stream",
     "text": [
      "200it [02:00,  1.65it/s]\n"
     ]
    }
   ],
   "source": [
    "y_lazy_pred = classifier.predict(X_test_scaled)"
   ]
  },
  {
   "cell_type": "code",
   "execution_count": 324,
   "id": "856833ab",
   "metadata": {},
   "outputs": [
    {
     "data": {
      "text/html": [
       "<div>\n",
       "<style scoped>\n",
       "    .dataframe tbody tr th:only-of-type {\n",
       "        vertical-align: middle;\n",
       "    }\n",
       "\n",
       "    .dataframe tbody tr th {\n",
       "        vertical-align: top;\n",
       "    }\n",
       "\n",
       "    .dataframe thead th {\n",
       "        text-align: right;\n",
       "    }\n",
       "</style>\n",
       "<table border=\"1\" class=\"dataframe\">\n",
       "  <thead>\n",
       "    <tr style=\"text-align: right;\">\n",
       "      <th></th>\n",
       "      <th>accuracy</th>\n",
       "      <th>F1</th>\n",
       "      <th>TN</th>\n",
       "      <th>FP</th>\n",
       "      <th>FN</th>\n",
       "      <th>TP</th>\n",
       "      <th>Specificity</th>\n",
       "      <th>Sensitivity_Recall</th>\n",
       "      <th>FPR</th>\n",
       "      <th>FDR</th>\n",
       "      <th>Precision</th>\n",
       "    </tr>\n",
       "  </thead>\n",
       "  <tbody>\n",
       "    <tr>\n",
       "      <th>LazyFCA (my tresholds)</th>\n",
       "      <td>0.635</td>\n",
       "      <td>0.730627</td>\n",
       "      <td>28.0</td>\n",
       "      <td>72.0</td>\n",
       "      <td>1.0</td>\n",
       "      <td>99.0</td>\n",
       "      <td>0.28</td>\n",
       "      <td>0.99</td>\n",
       "      <td>0.72</td>\n",
       "      <td>0.421053</td>\n",
       "      <td>0.578947</td>\n",
       "    </tr>\n",
       "    <tr>\n",
       "      <th>DTC (my tresholds)</th>\n",
       "      <td>0.825</td>\n",
       "      <td>0.832536</td>\n",
       "      <td>78.0</td>\n",
       "      <td>22.0</td>\n",
       "      <td>13.0</td>\n",
       "      <td>87.0</td>\n",
       "      <td>0.78</td>\n",
       "      <td>0.87</td>\n",
       "      <td>0.22</td>\n",
       "      <td>0.201835</td>\n",
       "      <td>0.798165</td>\n",
       "    </tr>\n",
       "    <tr>\n",
       "      <th>DTC numerical attributes</th>\n",
       "      <td>0.870</td>\n",
       "      <td>0.875000</td>\n",
       "      <td>83.0</td>\n",
       "      <td>17.0</td>\n",
       "      <td>9.0</td>\n",
       "      <td>91.0</td>\n",
       "      <td>0.83</td>\n",
       "      <td>0.91</td>\n",
       "      <td>0.17</td>\n",
       "      <td>0.157407</td>\n",
       "      <td>0.842593</td>\n",
       "    </tr>\n",
       "    <tr>\n",
       "      <th>Lazy+DCT att. 3 random</th>\n",
       "      <td>0.500</td>\n",
       "      <td>0.666667</td>\n",
       "      <td>0.0</td>\n",
       "      <td>100.0</td>\n",
       "      <td>0.0</td>\n",
       "      <td>100.0</td>\n",
       "      <td>0.00</td>\n",
       "      <td>1.00</td>\n",
       "      <td>1.00</td>\n",
       "      <td>0.500000</td>\n",
       "      <td>0.500000</td>\n",
       "    </tr>\n",
       "    <tr>\n",
       "      <th>Lazy+DCT att. 3 sparcly</th>\n",
       "      <td>0.535</td>\n",
       "      <td>0.682594</td>\n",
       "      <td>7.0</td>\n",
       "      <td>93.0</td>\n",
       "      <td>0.0</td>\n",
       "      <td>100.0</td>\n",
       "      <td>0.07</td>\n",
       "      <td>1.00</td>\n",
       "      <td>0.93</td>\n",
       "      <td>0.481865</td>\n",
       "      <td>0.518135</td>\n",
       "    </tr>\n",
       "    <tr>\n",
       "      <th>Lazy+DCT att. 3 important</th>\n",
       "      <td>0.655</td>\n",
       "      <td>0.743494</td>\n",
       "      <td>31.0</td>\n",
       "      <td>69.0</td>\n",
       "      <td>0.0</td>\n",
       "      <td>100.0</td>\n",
       "      <td>0.31</td>\n",
       "      <td>1.00</td>\n",
       "      <td>0.69</td>\n",
       "      <td>0.408284</td>\n",
       "      <td>0.591716</td>\n",
       "    </tr>\n",
       "    <tr>\n",
       "      <th>Lazy+DCT att. 3 shallow</th>\n",
       "      <td>0.735</td>\n",
       "      <td>0.787149</td>\n",
       "      <td>49.0</td>\n",
       "      <td>51.0</td>\n",
       "      <td>2.0</td>\n",
       "      <td>98.0</td>\n",
       "      <td>0.49</td>\n",
       "      <td>0.98</td>\n",
       "      <td>0.51</td>\n",
       "      <td>0.342282</td>\n",
       "      <td>0.657718</td>\n",
       "    </tr>\n",
       "  </tbody>\n",
       "</table>\n",
       "</div>"
      ],
      "text/plain": [
       "                           accuracy        F1    TN     FP    FN     TP  \\\n",
       "LazyFCA (my tresholds)        0.635  0.730627  28.0   72.0   1.0   99.0   \n",
       "DTC (my tresholds)            0.825  0.832536  78.0   22.0  13.0   87.0   \n",
       "DTC numerical attributes      0.870  0.875000  83.0   17.0   9.0   91.0   \n",
       "Lazy+DCT att. 3 random        0.500  0.666667   0.0  100.0   0.0  100.0   \n",
       "Lazy+DCT att. 3 sparcly       0.535  0.682594   7.0   93.0   0.0  100.0   \n",
       "Lazy+DCT att. 3 important     0.655  0.743494  31.0   69.0   0.0  100.0   \n",
       "Lazy+DCT att. 3 shallow       0.735  0.787149  49.0   51.0   2.0   98.0   \n",
       "\n",
       "                           Specificity  Sensitivity_Recall   FPR       FDR  \\\n",
       "LazyFCA (my tresholds)            0.28                0.99  0.72  0.421053   \n",
       "DTC (my tresholds)                0.78                0.87  0.22  0.201835   \n",
       "DTC numerical attributes          0.83                0.91  0.17  0.157407   \n",
       "Lazy+DCT att. 3 random            0.00                1.00  1.00  0.500000   \n",
       "Lazy+DCT att. 3 sparcly           0.07                1.00  0.93  0.481865   \n",
       "Lazy+DCT att. 3 important         0.31                1.00  0.69  0.408284   \n",
       "Lazy+DCT att. 3 shallow           0.49                0.98  0.51  0.342282   \n",
       "\n",
       "                           Precision  \n",
       "LazyFCA (my tresholds)      0.578947  \n",
       "DTC (my tresholds)          0.798165  \n",
       "DTC numerical attributes    0.842593  \n",
       "Lazy+DCT att. 3 random      0.500000  \n",
       "Lazy+DCT att. 3 sparcly     0.518135  \n",
       "Lazy+DCT att. 3 important   0.591716  \n",
       "Lazy+DCT att. 3 shallow     0.657718  "
      ]
     },
     "execution_count": 324,
     "metadata": {},
     "output_type": "execute_result"
    }
   ],
   "source": [
    "metric_df = metric_keeper('Lazy+DCT att. 3 shallow', y_test, y_lazy_pred, metric_df)\n",
    "metric_df"
   ]
  },
  {
   "cell_type": "code",
   "execution_count": 325,
   "id": "3f1a20b5",
   "metadata": {},
   "outputs": [
    {
     "data": {
      "image/png": "[encoded data removed]",
      "text/plain": [
       "<Figure size 432x288 with 2 Axes>"
      ]
     },
     "metadata": {
      "needs_background": "light"
     },
     "output_type": "display_data"
    }
   ],
   "source": [
    "_ = ConfusionMatrixDisplay(confusion_matrix(y_test, y_lazy_pred)).plot()"
   ]
  },
  {
   "cell_type": "markdown",
   "id": "8e0f19e3",
   "metadata": {},
   "source": [
    "Good result, I think this idea can be developed further"
   ]
  },
  {
   "cell_type": "markdown",
   "id": "fb4ff5ef",
   "metadata": {},
   "source": [
    "## 5 Ordered by depth"
   ]
  },
  {
   "cell_type": "markdown",
   "id": "1098977e",
   "metadata": {},
   "source": [
    "Just using more tresholds"
   ]
  },
  {
   "cell_type": "code",
   "execution_count": 326,
   "id": "a11ae870",
   "metadata": {},
   "outputs": [
    {
     "data": {
      "text/plain": [
       "{'Glucose': array([111.5,  22. , 153.5,  94.5, 123.5]),\n",
       " 'Age': array([27.5, 51.5, 44. , 26. , 28.5]),\n",
       " 'BMI': array([ 9.64999962, 24.35000038, 27.84999943, 45.39999962, 28.80000019]),\n",
       " 'DiabetesPedigreeFunction': array([1.13099998, 0.162     , 0.31199999, 0.2205    , 0.66600001]),\n",
       " 'Pregnancies': array([ 0.5,  2.5, 11.5,  9.5,  2.5]),\n",
       " 'Insulin': array([120. ,  25. , 327.5,  77. , 629.5])}"
      ]
     },
     "execution_count": 326,
     "metadata": {},
     "output_type": "execute_result"
    }
   ],
   "source": [
    "ordered_by_depth = {key: np.array(sorted(value, key=lambda x: -x[-1]))[-5:, 0] for key, value in treshold_dict.items()}\n",
    "ordered_by_depth"
   ]
  },
  {
   "cell_type": "code",
   "execution_count": 327,
   "id": "7c3f4543",
   "metadata": {},
   "outputs": [
    {
     "data": {
      "text/plain": [
       "((800, 30), (200, 30))"
      ]
     },
     "execution_count": 327,
     "metadata": {},
     "output_type": "execute_result"
    }
   ],
   "source": [
    "X_train_scaled = pd.DataFrame(index = X_train.index)\n",
    "X_test_scaled = pd.DataFrame(index = X_test.index)\n",
    "\n",
    "scaler_dict = {}\n",
    "\n",
    "columns = ['Insulin', 'DiabetesPedigreeFunction', 'Pregnancies', 'Age', 'BMI']\n",
    "\n",
    "for column in X_train:\n",
    "    scaler_dict[column] = OrdinalScaler(column)\n",
    "    if column in ordered_by_impurity.keys():\n",
    "        scaler_dict[column].fit(X_train, ordered_by_depth[column])\n",
    "    else:\n",
    "        scaler_dict[column].fit(X_train, [])\n",
    "    scaled_data = scaler_dict[column].scale(X_train)\n",
    "    scaled_data_test = scaler_dict[column].scale(X_test)\n",
    "    X_train_scaled = pd.concat([X_train_scaled, scaled_data], axis=1)\n",
    "    X_test_scaled = pd.concat([X_test_scaled, scaled_data_test], axis=1)\n",
    "    \n",
    "X_train_scaled.shape, X_test_scaled.shape"
   ]
  },
  {
   "cell_type": "code",
   "execution_count": 328,
   "id": "0704022f",
   "metadata": {},
   "outputs": [],
   "source": [
    "classifier = LazyClassifierFCA()\n",
    "classifier.fit(X_train_scaled, y_train)"
   ]
  },
  {
   "cell_type": "code",
   "execution_count": 329,
   "id": "838ef2aa",
   "metadata": {},
   "outputs": [
    {
     "name": "stderr",
     "output_type": "stream",
     "text": [
      "200it [01:59,  1.68it/s]\n"
     ]
    }
   ],
   "source": [
    "y_lazy_pred = classifier.predict(X_test_scaled)"
   ]
  },
  {
   "cell_type": "code",
   "execution_count": 330,
   "id": "8756f72c",
   "metadata": {},
   "outputs": [
    {
     "data": {
      "text/html": [
       "<div>\n",
       "<style scoped>\n",
       "    .dataframe tbody tr th:only-of-type {\n",
       "        vertical-align: middle;\n",
       "    }\n",
       "\n",
       "    .dataframe tbody tr th {\n",
       "        vertical-align: top;\n",
       "    }\n",
       "\n",
       "    .dataframe thead th {\n",
       "        text-align: right;\n",
       "    }\n",
       "</style>\n",
       "<table border=\"1\" class=\"dataframe\">\n",
       "  <thead>\n",
       "    <tr style=\"text-align: right;\">\n",
       "      <th></th>\n",
       "      <th>accuracy</th>\n",
       "      <th>F1</th>\n",
       "      <th>TN</th>\n",
       "      <th>FP</th>\n",
       "      <th>FN</th>\n",
       "      <th>TP</th>\n",
       "      <th>Specificity</th>\n",
       "      <th>Sensitivity_Recall</th>\n",
       "      <th>FPR</th>\n",
       "      <th>FDR</th>\n",
       "      <th>Precision</th>\n",
       "    </tr>\n",
       "  </thead>\n",
       "  <tbody>\n",
       "    <tr>\n",
       "      <th>LazyFCA (my tresholds)</th>\n",
       "      <td>0.635</td>\n",
       "      <td>0.730627</td>\n",
       "      <td>28.0</td>\n",
       "      <td>72.0</td>\n",
       "      <td>1.0</td>\n",
       "      <td>99.0</td>\n",
       "      <td>0.28</td>\n",
       "      <td>0.99</td>\n",
       "      <td>0.72</td>\n",
       "      <td>0.421053</td>\n",
       "      <td>0.578947</td>\n",
       "    </tr>\n",
       "    <tr>\n",
       "      <th>DTC (my tresholds)</th>\n",
       "      <td>0.825</td>\n",
       "      <td>0.832536</td>\n",
       "      <td>78.0</td>\n",
       "      <td>22.0</td>\n",
       "      <td>13.0</td>\n",
       "      <td>87.0</td>\n",
       "      <td>0.78</td>\n",
       "      <td>0.87</td>\n",
       "      <td>0.22</td>\n",
       "      <td>0.201835</td>\n",
       "      <td>0.798165</td>\n",
       "    </tr>\n",
       "    <tr>\n",
       "      <th>DTC numerical attributes</th>\n",
       "      <td>0.870</td>\n",
       "      <td>0.875000</td>\n",
       "      <td>83.0</td>\n",
       "      <td>17.0</td>\n",
       "      <td>9.0</td>\n",
       "      <td>91.0</td>\n",
       "      <td>0.83</td>\n",
       "      <td>0.91</td>\n",
       "      <td>0.17</td>\n",
       "      <td>0.157407</td>\n",
       "      <td>0.842593</td>\n",
       "    </tr>\n",
       "    <tr>\n",
       "      <th>Lazy+DCT att. 3 random</th>\n",
       "      <td>0.500</td>\n",
       "      <td>0.666667</td>\n",
       "      <td>0.0</td>\n",
       "      <td>100.0</td>\n",
       "      <td>0.0</td>\n",
       "      <td>100.0</td>\n",
       "      <td>0.00</td>\n",
       "      <td>1.00</td>\n",
       "      <td>1.00</td>\n",
       "      <td>0.500000</td>\n",
       "      <td>0.500000</td>\n",
       "    </tr>\n",
       "    <tr>\n",
       "      <th>Lazy+DCT att. 3 sparcly</th>\n",
       "      <td>0.535</td>\n",
       "      <td>0.682594</td>\n",
       "      <td>7.0</td>\n",
       "      <td>93.0</td>\n",
       "      <td>0.0</td>\n",
       "      <td>100.0</td>\n",
       "      <td>0.07</td>\n",
       "      <td>1.00</td>\n",
       "      <td>0.93</td>\n",
       "      <td>0.481865</td>\n",
       "      <td>0.518135</td>\n",
       "    </tr>\n",
       "    <tr>\n",
       "      <th>Lazy+DCT att. 3 important</th>\n",
       "      <td>0.655</td>\n",
       "      <td>0.743494</td>\n",
       "      <td>31.0</td>\n",
       "      <td>69.0</td>\n",
       "      <td>0.0</td>\n",
       "      <td>100.0</td>\n",
       "      <td>0.31</td>\n",
       "      <td>1.00</td>\n",
       "      <td>0.69</td>\n",
       "      <td>0.408284</td>\n",
       "      <td>0.591716</td>\n",
       "    </tr>\n",
       "    <tr>\n",
       "      <th>Lazy+DCT att. 3 shallow</th>\n",
       "      <td>0.735</td>\n",
       "      <td>0.787149</td>\n",
       "      <td>49.0</td>\n",
       "      <td>51.0</td>\n",
       "      <td>2.0</td>\n",
       "      <td>98.0</td>\n",
       "      <td>0.49</td>\n",
       "      <td>0.98</td>\n",
       "      <td>0.51</td>\n",
       "      <td>0.342282</td>\n",
       "      <td>0.657718</td>\n",
       "    </tr>\n",
       "    <tr>\n",
       "      <th>Lazy+DCT att. 5 shallow</th>\n",
       "      <td>0.775</td>\n",
       "      <td>0.811715</td>\n",
       "      <td>58.0</td>\n",
       "      <td>42.0</td>\n",
       "      <td>3.0</td>\n",
       "      <td>97.0</td>\n",
       "      <td>0.58</td>\n",
       "      <td>0.97</td>\n",
       "      <td>0.42</td>\n",
       "      <td>0.302158</td>\n",
       "      <td>0.697842</td>\n",
       "    </tr>\n",
       "  </tbody>\n",
       "</table>\n",
       "</div>"
      ],
      "text/plain": [
       "                           accuracy        F1    TN     FP    FN     TP  \\\n",
       "LazyFCA (my tresholds)        0.635  0.730627  28.0   72.0   1.0   99.0   \n",
       "DTC (my tresholds)            0.825  0.832536  78.0   22.0  13.0   87.0   \n",
       "DTC numerical attributes      0.870  0.875000  83.0   17.0   9.0   91.0   \n",
       "Lazy+DCT att. 3 random        0.500  0.666667   0.0  100.0   0.0  100.0   \n",
       "Lazy+DCT att. 3 sparcly       0.535  0.682594   7.0   93.0   0.0  100.0   \n",
       "Lazy+DCT att. 3 important     0.655  0.743494  31.0   69.0   0.0  100.0   \n",
       "Lazy+DCT att. 3 shallow       0.735  0.787149  49.0   51.0   2.0   98.0   \n",
       "Lazy+DCT att. 5 shallow       0.775  0.811715  58.0   42.0   3.0   97.0   \n",
       "\n",
       "                           Specificity  Sensitivity_Recall   FPR       FDR  \\\n",
       "LazyFCA (my tresholds)            0.28                0.99  0.72  0.421053   \n",
       "DTC (my tresholds)                0.78                0.87  0.22  0.201835   \n",
       "DTC numerical attributes          0.83                0.91  0.17  0.157407   \n",
       "Lazy+DCT att. 3 random            0.00                1.00  1.00  0.500000   \n",
       "Lazy+DCT att. 3 sparcly           0.07                1.00  0.93  0.481865   \n",
       "Lazy+DCT att. 3 important         0.31                1.00  0.69  0.408284   \n",
       "Lazy+DCT att. 3 shallow           0.49                0.98  0.51  0.342282   \n",
       "Lazy+DCT att. 5 shallow           0.58                0.97  0.42  0.302158   \n",
       "\n",
       "                           Precision  \n",
       "LazyFCA (my tresholds)      0.578947  \n",
       "DTC (my tresholds)          0.798165  \n",
       "DTC numerical attributes    0.842593  \n",
       "Lazy+DCT att. 3 random      0.500000  \n",
       "Lazy+DCT att. 3 sparcly     0.518135  \n",
       "Lazy+DCT att. 3 important   0.591716  \n",
       "Lazy+DCT att. 3 shallow     0.657718  \n",
       "Lazy+DCT att. 5 shallow     0.697842  "
      ]
     },
     "execution_count": 330,
     "metadata": {},
     "output_type": "execute_result"
    }
   ],
   "source": [
    "metric_df = metric_keeper('Lazy+DCT att. 5 shallow', y_test, y_lazy_pred, metric_df)\n",
    "metric_df"
   ]
  },
  {
   "cell_type": "markdown",
   "id": "59b33e04",
   "metadata": {},
   "source": [
    "Better"
   ]
  },
  {
   "cell_type": "code",
   "execution_count": null,
   "id": "b0e8170c",
   "metadata": {},
   "outputs": [],
   "source": []
  }
 ],
 "metadata": {
  "kernelspec": {
   "display_name": "Python 3 (ipykernel)",
   "language": "python",
   "name": "python3"
  },
  "language_info": {
   "codemirror_mode": {
    "name": "ipython",
    "version": 3
   },
   "file_extension": ".py",
   "mimetype": "text/x-python",
   "name": "python",
   "nbconvert_exporter": "python",
   "pygments_lexer": "ipython3",
   "version": "3.9.7"
  }
 },
 "nbformat": 4,
 "nbformat_minor": 5
}
